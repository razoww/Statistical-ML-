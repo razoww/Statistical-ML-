{
 "cells": [
  {
   "cell_type": "markdown",
   "metadata": {},
   "source": [
    "# Assignment 7 - Eduardo Razo\n",
    "## Neural Networks"
   ]
  },
  {
   "cell_type": "code",
   "execution_count": 26,
   "metadata": {},
   "outputs": [
    {
     "name": "stderr",
     "output_type": "stream",
     "text": [
      "Installing package into 'C:/Users/razow/Documents/R/win-library/3.6'\n",
      "(as 'lib' is unspecified)\n",
      "Warning message:\n",
      "\"package 'neuralnet' is in use and will not be installed\"Installing package into 'C:/Users/razow/Documents/R/win-library/3.6'\n",
      "(as 'lib' is unspecified)\n",
      "Warning message:\n",
      "\"package 'LiblineaR' is in use and will not be installed\"Installing package into 'C:/Users/razow/Documents/R/win-library/3.6'\n",
      "(as 'lib' is unspecified)\n",
      "Warning message:\n",
      "\"package 'adabag' is in use and will not be installed\""
     ]
    }
   ],
   "source": [
    "# Set environment params\n",
    "Sys.setenv(LANG='en')  # English\n",
    "\n",
    "# Import libraries\n",
    "library(mlr)           # ML toolkit\n",
    "library(caret)         # ML toolkit\n",
    "library(nnet)          # class.ind() function\n",
    "install.packages(\"neuralnet\")\n",
    "library(neuralnet)     # Deep Neural Networks\n",
    "install.packages(\"LiblineaR\")\n",
    "library(LiblineaR)     # LR Lasso (l1)\n",
    "library(randomForest)  # Random Forest\n",
    "install.packages(\"adabag\")\n",
    "library(adabag)        # Boosting\n",
    "library(e1071)         # SVM\n",
    "library(ggplot2)       # Visualization\n",
    "library(plotly)        # 3D visualization"
   ]
  },
  {
   "cell_type": "code",
   "execution_count": 14,
   "metadata": {},
   "outputs": [
    {
     "data": {
      "text/html": [
       "'C:/Users/razow/Desktop/IESEG Subjects/11 Statistical and machine learning approaches/Session 7/SML_Section7_v2.1_with_solution/SML_Section7_v2.1/data/com1_default'"
      ],
      "text/latex": [
       "'C:/Users/razow/Desktop/IESEG Subjects/11 Statistical and machine learning approaches/Session 7/SML\\_Section7\\_v2.1\\_with\\_solution/SML\\_Section7\\_v2.1/data/com1\\_default'"
      ],
      "text/markdown": [
       "'C:/Users/razow/Desktop/IESEG Subjects/11 Statistical and machine learning approaches/Session 7/SML_Section7_v2.1_with_solution/SML_Section7_v2.1/data/com1_default'"
      ],
      "text/plain": [
       "[1] \"C:/Users/razow/Desktop/IESEG Subjects/11 Statistical and machine learning approaches/Session 7/SML_Section7_v2.1_with_solution/SML_Section7_v2.1/data/com1_default\""
      ]
     },
     "metadata": {},
     "output_type": "display_data"
    },
    {
     "data": {
      "text/html": [
       "<table>\n",
       "<caption>A data.frame: 6 × 25</caption>\n",
       "<thead>\n",
       "\t<tr><th></th><th scope=col>X</th><th scope=col>X1</th><th scope=col>X2</th><th scope=col>X3</th><th scope=col>X4</th><th scope=col>X5</th><th scope=col>X6</th><th scope=col>X7</th><th scope=col>X8</th><th scope=col>X9</th><th scope=col>...</th><th scope=col>X15</th><th scope=col>X16</th><th scope=col>X17</th><th scope=col>X18</th><th scope=col>X19</th><th scope=col>X20</th><th scope=col>X21</th><th scope=col>X22</th><th scope=col>X23</th><th scope=col>Y</th></tr>\n",
       "\t<tr><th></th><th scope=col>&lt;int&gt;</th><th scope=col>&lt;int&gt;</th><th scope=col>&lt;int&gt;</th><th scope=col>&lt;int&gt;</th><th scope=col>&lt;int&gt;</th><th scope=col>&lt;int&gt;</th><th scope=col>&lt;int&gt;</th><th scope=col>&lt;int&gt;</th><th scope=col>&lt;int&gt;</th><th scope=col>&lt;int&gt;</th><th scope=col>...</th><th scope=col>&lt;int&gt;</th><th scope=col>&lt;int&gt;</th><th scope=col>&lt;int&gt;</th><th scope=col>&lt;int&gt;</th><th scope=col>&lt;int&gt;</th><th scope=col>&lt;int&gt;</th><th scope=col>&lt;int&gt;</th><th scope=col>&lt;int&gt;</th><th scope=col>&lt;int&gt;</th><th scope=col>&lt;int&gt;</th></tr>\n",
       "</thead>\n",
       "<tbody>\n",
       "\t<tr><th scope=row>1</th><td>1</td><td> 20000</td><td>2</td><td>2</td><td>1</td><td>24</td><td> 2</td><td>2</td><td>-1</td><td>-1</td><td>...</td><td>    0</td><td>    0</td><td>    0</td><td>   0</td><td>  689</td><td>    0</td><td>   0</td><td>   0</td><td>   0</td><td>1</td></tr>\n",
       "\t<tr><th scope=row>2</th><td>2</td><td>120000</td><td>2</td><td>2</td><td>2</td><td>26</td><td>-1</td><td>2</td><td> 0</td><td> 0</td><td>...</td><td> 3272</td><td> 3455</td><td> 3261</td><td>   0</td><td> 1000</td><td> 1000</td><td>1000</td><td>   0</td><td>2000</td><td>1</td></tr>\n",
       "\t<tr><th scope=row>3</th><td>3</td><td> 90000</td><td>2</td><td>2</td><td>2</td><td>34</td><td> 0</td><td>0</td><td> 0</td><td> 0</td><td>...</td><td>14331</td><td>14948</td><td>15549</td><td>1518</td><td> 1500</td><td> 1000</td><td>1000</td><td>1000</td><td>5000</td><td>0</td></tr>\n",
       "\t<tr><th scope=row>4</th><td>4</td><td> 50000</td><td>2</td><td>2</td><td>1</td><td>37</td><td> 0</td><td>0</td><td> 0</td><td> 0</td><td>...</td><td>28314</td><td>28959</td><td>29547</td><td>2000</td><td> 2019</td><td> 1200</td><td>1100</td><td>1069</td><td>1000</td><td>0</td></tr>\n",
       "\t<tr><th scope=row>5</th><td>5</td><td> 50000</td><td>1</td><td>2</td><td>1</td><td>57</td><td>-1</td><td>0</td><td>-1</td><td> 0</td><td>...</td><td>20940</td><td>19146</td><td>19131</td><td>2000</td><td>36681</td><td>10000</td><td>9000</td><td> 689</td><td> 679</td><td>0</td></tr>\n",
       "\t<tr><th scope=row>6</th><td>6</td><td> 50000</td><td>1</td><td>1</td><td>2</td><td>37</td><td> 0</td><td>0</td><td> 0</td><td> 0</td><td>...</td><td>19394</td><td>19619</td><td>20024</td><td>2500</td><td> 1815</td><td>  657</td><td>1000</td><td>1000</td><td> 800</td><td>0</td></tr>\n",
       "</tbody>\n",
       "</table>\n"
      ],
      "text/latex": [
       "A data.frame: 6 × 25\n",
       "\\begin{tabular}{r|lllllllllllllllllllll}\n",
       "  & X & X1 & X2 & X3 & X4 & X5 & X6 & X7 & X8 & X9 & ... & X15 & X16 & X17 & X18 & X19 & X20 & X21 & X22 & X23 & Y\\\\\n",
       "  & <int> & <int> & <int> & <int> & <int> & <int> & <int> & <int> & <int> & <int> & ... & <int> & <int> & <int> & <int> & <int> & <int> & <int> & <int> & <int> & <int>\\\\\n",
       "\\hline\n",
       "\t1 & 1 &  20000 & 2 & 2 & 1 & 24 &  2 & 2 & -1 & -1 & ... &     0 &     0 &     0 &    0 &   689 &     0 &    0 &    0 &    0 & 1\\\\\n",
       "\t2 & 2 & 120000 & 2 & 2 & 2 & 26 & -1 & 2 &  0 &  0 & ... &  3272 &  3455 &  3261 &    0 &  1000 &  1000 & 1000 &    0 & 2000 & 1\\\\\n",
       "\t3 & 3 &  90000 & 2 & 2 & 2 & 34 &  0 & 0 &  0 &  0 & ... & 14331 & 14948 & 15549 & 1518 &  1500 &  1000 & 1000 & 1000 & 5000 & 0\\\\\n",
       "\t4 & 4 &  50000 & 2 & 2 & 1 & 37 &  0 & 0 &  0 &  0 & ... & 28314 & 28959 & 29547 & 2000 &  2019 &  1200 & 1100 & 1069 & 1000 & 0\\\\\n",
       "\t5 & 5 &  50000 & 1 & 2 & 1 & 57 & -1 & 0 & -1 &  0 & ... & 20940 & 19146 & 19131 & 2000 & 36681 & 10000 & 9000 &  689 &  679 & 0\\\\\n",
       "\t6 & 6 &  50000 & 1 & 1 & 2 & 37 &  0 & 0 &  0 &  0 & ... & 19394 & 19619 & 20024 & 2500 &  1815 &   657 & 1000 & 1000 &  800 & 0\\\\\n",
       "\\end{tabular}\n"
      ],
      "text/markdown": [
       "\n",
       "A data.frame: 6 × 25\n",
       "\n",
       "| <!--/--> | X &lt;int&gt; | X1 &lt;int&gt; | X2 &lt;int&gt; | X3 &lt;int&gt; | X4 &lt;int&gt; | X5 &lt;int&gt; | X6 &lt;int&gt; | X7 &lt;int&gt; | X8 &lt;int&gt; | X9 &lt;int&gt; | ... ... | X15 &lt;int&gt; | X16 &lt;int&gt; | X17 &lt;int&gt; | X18 &lt;int&gt; | X19 &lt;int&gt; | X20 &lt;int&gt; | X21 &lt;int&gt; | X22 &lt;int&gt; | X23 &lt;int&gt; | Y &lt;int&gt; |\n",
       "|---|---|---|---|---|---|---|---|---|---|---|---|---|---|---|---|---|---|---|---|---|---|\n",
       "| 1 | 1 |  20000 | 2 | 2 | 1 | 24 |  2 | 2 | -1 | -1 | ... |     0 |     0 |     0 |    0 |   689 |     0 |    0 |    0 |    0 | 1 |\n",
       "| 2 | 2 | 120000 | 2 | 2 | 2 | 26 | -1 | 2 |  0 |  0 | ... |  3272 |  3455 |  3261 |    0 |  1000 |  1000 | 1000 |    0 | 2000 | 1 |\n",
       "| 3 | 3 |  90000 | 2 | 2 | 2 | 34 |  0 | 0 |  0 |  0 | ... | 14331 | 14948 | 15549 | 1518 |  1500 |  1000 | 1000 | 1000 | 5000 | 0 |\n",
       "| 4 | 4 |  50000 | 2 | 2 | 1 | 37 |  0 | 0 |  0 |  0 | ... | 28314 | 28959 | 29547 | 2000 |  2019 |  1200 | 1100 | 1069 | 1000 | 0 |\n",
       "| 5 | 5 |  50000 | 1 | 2 | 1 | 57 | -1 | 0 | -1 |  0 | ... | 20940 | 19146 | 19131 | 2000 | 36681 | 10000 | 9000 |  689 |  679 | 0 |\n",
       "| 6 | 6 |  50000 | 1 | 1 | 2 | 37 |  0 | 0 |  0 |  0 | ... | 19394 | 19619 | 20024 | 2500 |  1815 |   657 | 1000 | 1000 |  800 | 0 |\n",
       "\n"
      ],
      "text/plain": [
       "  X X1     X2 X3 X4 X5 X6 X7 X8 X9 ... X15   X16   X17   X18  X19   X20   X21 \n",
       "1 1  20000 2  2  1  24  2 2  -1 -1 ...     0     0     0    0   689     0    0\n",
       "2 2 120000 2  2  2  26 -1 2   0  0 ...  3272  3455  3261    0  1000  1000 1000\n",
       "3 3  90000 2  2  2  34  0 0   0  0 ... 14331 14948 15549 1518  1500  1000 1000\n",
       "4 4  50000 2  2  1  37  0 0   0  0 ... 28314 28959 29547 2000  2019  1200 1100\n",
       "5 5  50000 1  2  1  57 -1 0  -1  0 ... 20940 19146 19131 2000 36681 10000 9000\n",
       "6 6  50000 1  1  2  37  0 0   0  0 ... 19394 19619 20024 2500  1815   657 1000\n",
       "  X22  X23  Y\n",
       "1    0    0 1\n",
       "2    0 2000 1\n",
       "3 1000 5000 0\n",
       "4 1069 1000 0\n",
       "5  689  679 0\n",
       "6 1000  800 0"
      ]
     },
     "metadata": {},
     "output_type": "display_data"
    }
   ],
   "source": [
    "setwd(\"C:/Users/razow/Desktop/IESEG Subjects/11 Statistical and machine learning approaches/Session 7/SML_Section7_v2.1_with_solution/SML_Section7_v2.1/data/com1_default\")\n",
    "getwd()\n",
    "\n",
    "default <- read.delim(\"default.csv\", sep = ';', header = TRUE)\n",
    "head(default)"
   ]
  },
  {
   "cell_type": "code",
   "execution_count": 15,
   "metadata": {},
   "outputs": [
    {
     "name": "stdout",
     "output_type": "stream",
     "text": [
      "'data.frame':\t30000 obs. of  25 variables:\n",
      " $ X  : int  1 2 3 4 5 6 7 8 9 10 ...\n",
      " $ X1 : int  20000 120000 90000 50000 50000 50000 500000 100000 140000 20000 ...\n",
      " $ X2 : int  2 2 2 2 1 1 1 2 2 1 ...\n",
      " $ X3 : int  2 2 2 2 2 1 1 2 3 3 ...\n",
      " $ X4 : int  1 2 2 1 1 2 2 2 1 2 ...\n",
      " $ X5 : int  24 26 34 37 57 37 29 23 28 35 ...\n",
      " $ X6 : int  2 -1 0 0 -1 0 0 0 0 -2 ...\n",
      " $ X7 : int  2 2 0 0 0 0 0 -1 0 -2 ...\n",
      " $ X8 : int  -1 0 0 0 -1 0 0 -1 2 -2 ...\n",
      " $ X9 : int  -1 0 0 0 0 0 0 0 0 -2 ...\n",
      " $ X10: int  -2 0 0 0 0 0 0 0 0 -1 ...\n",
      " $ X11: int  -2 2 0 0 0 0 0 -1 0 -1 ...\n",
      " $ X12: int  3913 2682 29239 46990 8617 64400 367965 11876 11285 0 ...\n",
      " $ X13: int  3102 1725 14027 48233 5670 57069 412023 380 14096 0 ...\n",
      " $ X14: int  689 2682 13559 49291 35835 57608 445007 601 12108 0 ...\n",
      " $ X15: int  0 3272 14331 28314 20940 19394 542653 221 12211 0 ...\n",
      " $ X16: int  0 3455 14948 28959 19146 19619 483003 -159 11793 13007 ...\n",
      " $ X17: int  0 3261 15549 29547 19131 20024 473944 567 3719 13912 ...\n",
      " $ X18: int  0 0 1518 2000 2000 2500 55000 380 3329 0 ...\n",
      " $ X19: int  689 1000 1500 2019 36681 1815 40000 601 0 0 ...\n",
      " $ X20: int  0 1000 1000 1200 10000 657 38000 0 432 0 ...\n",
      " $ X21: int  0 1000 1000 1100 9000 1000 20239 581 1000 13007 ...\n",
      " $ X22: int  0 0 1000 1069 689 1000 13750 1687 1000 1122 ...\n",
      " $ X23: int  0 2000 5000 1000 679 800 13770 1542 1000 0 ...\n",
      " $ Y  : int  1 1 0 0 0 0 0 0 0 0 ...\n"
     ]
    }
   ],
   "source": [
    "str(default)"
   ]
  },
  {
   "cell_type": "code",
   "execution_count": 16,
   "metadata": {},
   "outputs": [],
   "source": [
    "# Split the data into train/test\n",
    "set.seed(1)\n",
    "train_idx <- sample(1:nrow(default), 21000)\n",
    "default_train <- default[train_idx, ]  # 21000\n",
    "default_test <- default[-train_idx, ]  # 9000"
   ]
  },
  {
   "cell_type": "code",
   "execution_count": 19,
   "metadata": {},
   "outputs": [],
   "source": [
    "# Create the formula\n",
    "default_neural <- as.formula(\"Y ~ .\")"
   ]
  },
  {
   "cell_type": "code",
   "execution_count": 25,
   "metadata": {},
   "outputs": [
    {
     "name": "stderr",
     "output_type": "stream",
     "text": [
      "hidden: 30    thresh: 0.01    rep: 1/1    steps:    1000\tmin thresh: 4632.99999999838\n",
      "                                                    2000\tmin thresh: 4632.99999999838\n",
      "                                                    3000\tmin thresh: 4621.99992427034\n",
      "                                                    4000\tmin thresh: 4612.99999999998\n",
      "                                                    5000\tmin thresh: 4611.95827681687\n",
      "                                                    6000\tmin thresh: 4609.99993885178\n",
      "                                                    7000\tmin thresh: 120.369901691836\n",
      "                                                    8000\tmin thresh: 120.369901691836\n",
      "                                                    9000\tmin thresh: 120.369901691836\n",
      "                                                   10000\tmin thresh: 120.369901691836\n",
      "                                                   11000\tmin thresh: 120.369901691836\n",
      "                                                   12000\tmin thresh: 120.369901691836\n",
      "                                                   13000\tmin thresh: 120.369901691836\n",
      "                                                   14000\tmin thresh: 120.369901691836\n",
      "                                                   15000\tmin thresh: 120.369901691836\n",
      "                                                   16000\tmin thresh: 120.369901691836\n",
      "                                                   17000\tmin thresh: 120.369901691836\n",
      "                                                   18000\tmin thresh: 120.369901691836\n",
      "                                                   19000\tmin thresh: 120.369901691836\n",
      "                                                   20000\tmin thresh: 120.369901691836\n",
      "                                                   21000\tmin thresh: 120.369901691836\n",
      "                                                   22000\tmin thresh: 120.369901691836\n",
      "                                                   23000\tmin thresh: 120.369901691836\n",
      "                                                   24000\tmin thresh: 120.369901691836\n",
      "                                                   25000\tmin thresh: 120.369901691836\n",
      "                                                   26000\tmin thresh: 120.369901691836\n",
      "                                                   27000\tmin thresh: 120.369901691836\n",
      "                                                   28000\tmin thresh: 120.369901691836\n",
      "                                                   29000\tmin thresh: 120.369901691836\n",
      "                                                   30000\tmin thresh: 120.369901691836\n",
      "                                                   31000\tmin thresh: 120.369901691836\n",
      "                                                   32000\tmin thresh: 120.369901691836\n",
      "                                                   33000\tmin thresh: 120.369901691836\n",
      "                                                   34000\tmin thresh: 120.369901691836\n",
      "                                                   35000\tmin thresh: 120.369901691836\n",
      "                                                   36000\tmin thresh: 120.369901691836\n",
      "                                                   37000\tmin thresh: 120.369901691836\n",
      "                                                   38000\tmin thresh: 120.369901691836\n",
      "                                                   39000\tmin thresh: 120.369901691836\n",
      "                                                   40000\tmin thresh: 120.369901691836\n",
      "                                                   41000\tmin thresh: 120.369901691836\n",
      "                                                   42000\tmin thresh: 120.369901691836\n",
      "                                                   43000\tmin thresh: 120.369901691836\n",
      "                                                   44000\tmin thresh: 120.369901691836\n",
      "                                                   45000\tmin thresh: 120.369901691836\n",
      "                                                   46000\tmin thresh: 120.369901691836\n",
      "                                                   47000\tmin thresh: 120.369901691836\n",
      "                                                   48000\tmin thresh: 120.369901691836\n",
      "                                                   49000\tmin thresh: 120.369901691836\n",
      "                                                   50000\tmin thresh: 120.369901691836\n",
      "                                                   51000\tmin thresh: 120.369901691836\n",
      "                                                   52000\tmin thresh: 120.369901691836\n",
      "                                                   53000\tmin thresh: 120.369901691836\n",
      "                                                   54000\tmin thresh: 120.369901691836\n",
      "                                                   55000\tmin thresh: 120.369901691836\n",
      "                                                   56000\tmin thresh: 120.369901691836\n",
      "                                                   57000\tmin thresh: 120.369901691836\n",
      "                                                   58000\tmin thresh: 120.369901691836\n",
      "                                                   59000\tmin thresh: 120.369901691836\n",
      "                                                   60000\tmin thresh: 120.369901691836\n",
      "                                                   61000\tmin thresh: 120.369901691836\n",
      "                                                   62000\tmin thresh: 120.369901691836\n",
      "                                                   63000\tmin thresh: 120.369901691836\n",
      "                                                   64000\tmin thresh: 120.369901691836\n",
      "                                                   65000\tmin thresh: 120.369901691836\n",
      "                                                   66000\tmin thresh: 120.369901691836\n",
      "                                                   67000\tmin thresh: 120.369901691836\n",
      "                                                   68000\tmin thresh: 120.369901691836\n",
      "                                                   69000\tmin thresh: 120.369901691836\n",
      "                                                   70000\tmin thresh: 120.369901691836\n",
      "                                                   71000\tmin thresh: 120.369901691836\n",
      "                                                   72000\tmin thresh: 120.369901691836\n",
      "                                                   73000\tmin thresh: 120.369901691836\n",
      "                                                   74000\tmin thresh: 120.369901691836\n",
      "                                                   75000\tmin thresh: 120.369901691836\n",
      "                                                   76000\tmin thresh: 120.369901691836\n",
      "                                                   77000\tmin thresh: 120.369901691836\n",
      "                                                   78000\tmin thresh: 120.369901691836\n",
      "                                                   79000\tmin thresh: 120.369901691836\n",
      "                                                   80000\tmin thresh: 120.369901691836\n",
      "                                                   81000\tmin thresh: 120.369901691836\n",
      "                                                   82000\tmin thresh: 120.369901691836\n",
      "                                                   83000\tmin thresh: 120.369901691836\n",
      "                                                   84000\tmin thresh: 120.369901691836\n",
      "                                                   85000\tmin thresh: 120.369901691836\n",
      "                                                   86000\tmin thresh: 120.369901691836\n",
      "                                                   87000\tmin thresh: 120.369901691836\n",
      "                                                   88000\tmin thresh: 120.369901691836\n",
      "                                                   89000\tmin thresh: 120.369901691836\n",
      "                                                   90000\tmin thresh: 120.369901691836\n",
      "                                                   91000\tmin thresh: 120.369901691836\n",
      "                                                   92000\tmin thresh: 120.369901691836\n",
      "                                                   93000\tmin thresh: 120.369901691836\n",
      "                                                   94000\tmin thresh: 120.369901691836\n",
      "                                                   95000\tmin thresh: 120.369901691836\n"
     ]
    },
    {
     "name": "stderr",
     "output_type": "stream",
     "text": [
      "                                                   96000\tmin thresh: 120.369901691836\n",
      "                                                   97000\tmin thresh: 120.369901691836\n",
      "                                                   98000\tmin thresh: 120.369901691836\n",
      "                                                   99000\tmin thresh: 120.369901691836\n",
      "                                                 stepmax\tmin thresh: 120.369901691836\n",
      "Warning message:\n",
      "\"Algorithm did not converge in 1 of 1 repetition(s) within the stepmax.\""
     ]
    }
   ],
   "source": [
    "# Train the neural network model with hidden layer of 30 neurons\n",
    "nn_md <- neuralnet(default_neural,          # The formula\n",
    "                   default_train,             # Training data\n",
    "                   hidden=c(30),  # Size of the hidden layers\n",
    "                   #stepmax=10000,        # Maximum training step before stopping\n",
    "                   rep=1,                 # Number of training repeat\n",
    "                   lifesign='full',       # Print during train\n",
    "                   algorithm='backprop',  # Algorithm to calculate the network (backpropagation)\n",
    "                   learningrate=0.01,     # Learning rate\n",
    "                   err.fct='ce',          # Error function, cross-entropy\n",
    "                   act.fct=\"logistic\",    # Function use to calculate the result (activation function)\n",
    "                   linear.output=F        # FALSE = apply activation function to output layer\n",
    "                  )"
   ]
  },
  {
   "cell_type": "code",
   "execution_count": 24,
   "metadata": {},
   "outputs": [
    {
     "name": "stderr",
     "output_type": "stream",
     "text": [
      "hidden: 10, 10, 10    thresh: 0.01    rep: 1/1    steps:    1000\tmin thresh: 1821.954244855\n",
      "                                                            2000\tmin thresh: 1821.954244855\n",
      "                                                            3000\tmin thresh: 1821.954244855\n",
      "                                                            4000\tmin thresh: 1821.954244855\n",
      "                                                            5000\tmin thresh: 1821.954244855\n",
      "                                                            6000\tmin thresh: 1821.954244855\n",
      "                                                            7000\tmin thresh: 1821.954244855\n",
      "                                                            8000\tmin thresh: 1821.954244855\n",
      "                                                            9000\tmin thresh: 1821.954244855\n",
      "                                                           10000\tmin thresh: 1821.954244855\n",
      "                                                           11000\tmin thresh: 1821.954244855\n",
      "                                                           12000\tmin thresh: 1821.954244855\n",
      "                                                           13000\tmin thresh: 1821.954244855\n",
      "                                                           14000\tmin thresh: 1821.954244855\n",
      "                                                           15000\tmin thresh: 1821.954244855\n",
      "                                                           16000\tmin thresh: 1821.954244855\n",
      "                                                           17000\tmin thresh: 1821.954244855\n",
      "                                                           18000\tmin thresh: 1821.954244855\n",
      "                                                           19000\tmin thresh: 1821.954244855\n",
      "                                                           20000\tmin thresh: 1821.954244855\n",
      "                                                           21000\tmin thresh: 1821.954244855\n",
      "                                                           22000\tmin thresh: 1821.954244855\n",
      "                                                           23000\tmin thresh: 1821.954244855\n",
      "                                                           24000\tmin thresh: 1821.954244855\n",
      "                                                           25000\tmin thresh: 1821.954244855\n",
      "                                                           26000\tmin thresh: 1821.954244855\n",
      "                                                           27000\tmin thresh: 1821.954244855\n",
      "                                                           28000\tmin thresh: 1821.954244855\n",
      "                                                           29000\tmin thresh: 1821.954244855\n",
      "                                                           30000\tmin thresh: 1821.954244855\n",
      "                                                           31000\tmin thresh: 1821.954244855\n",
      "                                                           32000\tmin thresh: 1821.954244855\n",
      "                                                           33000\tmin thresh: 1821.954244855\n",
      "                                                           34000\tmin thresh: 1821.954244855\n",
      "                                                           35000\tmin thresh: 1821.954244855\n",
      "                                                           36000\tmin thresh: 1821.954244855\n",
      "                                                           37000\tmin thresh: 1821.954244855\n",
      "                                                           38000\tmin thresh: 1821.954244855\n",
      "                                                           39000\tmin thresh: 1821.954244855\n",
      "                                                           40000\tmin thresh: 1821.954244855\n",
      "                                                           41000\tmin thresh: 1821.954244855\n",
      "                                                           42000\tmin thresh: 1821.954244855\n",
      "                                                           43000\tmin thresh: 1821.954244855\n",
      "                                                           44000\tmin thresh: 1821.954244855\n",
      "                                                           45000\tmin thresh: 1821.954244855\n",
      "                                                           46000\tmin thresh: 1821.954244855\n",
      "                                                           47000\tmin thresh: 1821.954244855\n",
      "                                                           48000\tmin thresh: 1821.954244855\n",
      "                                                           49000\tmin thresh: 1821.954244855\n",
      "                                                           50000\tmin thresh: 1821.954244855\n",
      "                                                           51000\tmin thresh: 1821.954244855\n",
      "                                                           52000\tmin thresh: 1821.954244855\n",
      "                                                           53000\tmin thresh: 1821.954244855\n",
      "                                                           54000\tmin thresh: 1821.954244855\n",
      "                                                           55000\tmin thresh: 1821.954244855\n",
      "                                                           56000\tmin thresh: 1821.954244855\n",
      "                                                           57000\tmin thresh: 1821.954244855\n",
      "                                                           58000\tmin thresh: 1821.954244855\n",
      "                                                           59000\tmin thresh: 1821.954244855\n",
      "                                                           60000\tmin thresh: 1821.954244855\n",
      "                                                           61000\tmin thresh: 1821.954244855\n",
      "                                                           62000\tmin thresh: 1821.954244855\n",
      "                                                           63000\tmin thresh: 1821.954244855\n",
      "                                                           64000\tmin thresh: 1821.954244855\n",
      "                                                           65000\tmin thresh: 1821.954244855\n",
      "                                                           66000\tmin thresh: 1821.954244855\n",
      "                                                           67000\tmin thresh: 1821.954244855\n",
      "                                                           68000\tmin thresh: 1821.954244855\n",
      "                                                           69000\tmin thresh: 1821.954244855\n",
      "                                                           70000\tmin thresh: 1821.954244855\n",
      "                                                           71000\tmin thresh: 1821.954244855\n",
      "                                                           72000\tmin thresh: 1821.954244855\n",
      "                                                           73000\tmin thresh: 1821.954244855\n",
      "                                                           74000\tmin thresh: 1821.954244855\n",
      "                                                           75000\tmin thresh: 1821.954244855\n",
      "                                                           76000\tmin thresh: 1821.954244855\n",
      "                                                           77000\tmin thresh: 1821.954244855\n",
      "                                                           78000\tmin thresh: 1821.954244855\n",
      "                                                           79000\tmin thresh: 1821.954244855\n",
      "                                                           80000\tmin thresh: 1821.954244855\n",
      "                                                           81000\tmin thresh: 1821.954244855\n",
      "                                                           82000\tmin thresh: 1821.954244855\n",
      "                                                           83000\tmin thresh: 1821.954244855\n",
      "                                                           84000\tmin thresh: 1821.954244855\n",
      "                                                           85000\tmin thresh: 1821.954244855\n",
      "                                                           86000\tmin thresh: 1821.954244855\n",
      "                                                           87000\tmin thresh: 1821.954244855\n",
      "                                                           88000\tmin thresh: 1821.954244855\n",
      "                                                           89000\tmin thresh: 1821.954244855\n"
     ]
    },
    {
     "name": "stderr",
     "output_type": "stream",
     "text": [
      "                                                           90000\tmin thresh: 1821.954244855\n",
      "                                                           91000\tmin thresh: 1821.954244855\n",
      "                                                           92000\tmin thresh: 1821.954244855\n",
      "                                                           93000\tmin thresh: 1821.954244855\n",
      "                                                           94000\tmin thresh: 1821.954244855\n",
      "                                                           95000\tmin thresh: 1821.954244855\n",
      "                                                           96000\tmin thresh: 1821.954244855\n",
      "                                                           97000\tmin thresh: 1821.954244855\n",
      "                                                           98000\tmin thresh: 1821.954244855\n",
      "                                                           99000\tmin thresh: 1821.954244855\n",
      "                                                         stepmax\tmin thresh: 1821.954244855\n",
      "Warning message:\n",
      "\"Algorithm did not converge in 1 of 1 repetition(s) within the stepmax.\""
     ]
    }
   ],
   "source": [
    "# Train the neural network model\n",
    "nn_md <- neuralnet(default_neural,          # The formula\n",
    "                   default_train,             # Training data\n",
    "                   hidden=c(10, 10, 10),  # Size of the hidden layers\n",
    "                   #stepmax=10000,        # Maximum training step before stopping\n",
    "                   rep=1,                 # Number of training repeat\n",
    "                   lifesign='full',       # Print during train\n",
    "                   algorithm='backprop',  # Algorithm to calculate the network (backpropagation)\n",
    "                   learningrate=0.01,     # Learning rate\n",
    "                   err.fct='ce',          # Error function, cross-entropy\n",
    "                   act.fct=\"logistic\",    # Function use to calculate the result (activation function)\n",
    "                   linear.output=F        # FALSE = apply activation function to output layer\n",
    "                  )"
   ]
  },
  {
   "cell_type": "code",
   "execution_count": null,
   "metadata": {},
   "outputs": [],
   "source": []
  },
  {
   "cell_type": "code",
   "execution_count": null,
   "metadata": {},
   "outputs": [],
   "source": []
  }
 ],
 "metadata": {
  "kernelspec": {
   "display_name": "R",
   "language": "R",
   "name": "ir"
  },
  "language_info": {
   "codemirror_mode": "r",
   "file_extension": ".r",
   "mimetype": "text/x-r-source",
   "name": "R",
   "pygments_lexer": "r",
   "version": "3.6.1"
  }
 },
 "nbformat": 4,
 "nbformat_minor": 4
}
