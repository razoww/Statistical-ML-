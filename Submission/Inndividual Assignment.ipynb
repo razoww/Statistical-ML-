{
 "cells": [
  {
   "cell_type": "markdown",
   "metadata": {},
   "source": [
    "# Individual Assignment\n",
    "\n",
    "# Part 2 - Benchmark Experiment"
   ]
  },
  {
   "cell_type": "markdown",
   "metadata": {},
   "source": [
    "## 1. Libraries"
   ]
  },
  {
   "cell_type": "code",
   "execution_count": 1,
   "metadata": {},
   "outputs": [
    {
     "name": "stderr",
     "output_type": "stream",
     "text": [
      "Warning message:\n",
      "\"package 'varhandle' was built under R version 3.6.2\"Warning message:\n",
      "\"package 'mlr' was built under R version 3.6.3\"Loading required package: ParamHelpers\n",
      "Warning message:\n",
      "\"package 'ParamHelpers' was built under R version 3.6.3\"'mlr' is in maintenance mode since July 2019. Future development\n",
      "efforts will go into its successor 'mlr3' (<https://mlr3.mlr-org.com>).\n",
      "Installing package into 'C:/Users/razow/Documents/R/win-library/3.6'\n",
      "(as 'lib' is unspecified)\n"
     ]
    },
    {
     "name": "stdout",
     "output_type": "stream",
     "text": [
      "package 'woeBinning' successfully unpacked and MD5 sums checked\n",
      "\n",
      "The downloaded binary packages are in\n",
      "\tC:\\Users\\razow\\AppData\\Local\\Temp\\RtmpshSc8l\\downloaded_packages\n"
     ]
    },
    {
     "name": "stderr",
     "output_type": "stream",
     "text": [
      "Warning message:\n",
      "\"package 'Boruta' was built under R version 3.6.3\"Loading required package: ranger\n",
      "Warning message:\n",
      "\"package 'ranger' was built under R version 3.6.3\"Warning message:\n",
      "\"package 'MASS' was built under R version 3.6.3\"Warning message:\n",
      "\"package 'randomForest' was built under R version 3.6.2\"randomForest 4.6-14\n",
      "Type rfNews() to see new features/changes/bug fixes.\n",
      "\n",
      "Attaching package: 'randomForest'\n",
      "\n",
      "The following object is masked from 'package:ranger':\n",
      "\n",
      "    importance\n",
      "\n",
      "Warning message:\n",
      "\"package 'gbm' was built under R version 3.6.3\"Loaded gbm 2.1.5\n",
      "Warning message:\n",
      "\"package 'xgboost' was built under R version 3.6.3\"Installing package into 'C:/Users/razow/Documents/R/win-library/3.6'\n",
      "(as 'lib' is unspecified)\n"
     ]
    },
    {
     "name": "stdout",
     "output_type": "stream",
     "text": [
      "package 'ada' successfully unpacked and MD5 sums checked\n",
      "\n",
      "The downloaded binary packages are in\n",
      "\tC:\\Users\\razow\\AppData\\Local\\Temp\\RtmpshSc8l\\downloaded_packages\n"
     ]
    },
    {
     "name": "stderr",
     "output_type": "stream",
     "text": [
      "Warning message:\n",
      "\"package 'ada' was built under R version 3.6.3\"Loading required package: rpart\n",
      "Warning message:\n",
      "\"package 'rpart' was built under R version 3.6.3\"Installing package into 'C:/Users/razow/Documents/R/win-library/3.6'\n",
      "(as 'lib' is unspecified)\n"
     ]
    },
    {
     "name": "stdout",
     "output_type": "stream",
     "text": [
      "package 'e1071' successfully unpacked and MD5 sums checked\n"
     ]
    },
    {
     "name": "stderr",
     "output_type": "stream",
     "text": [
      "Warning message:\n",
      "\"cannot remove prior installation of package 'e1071'\"Warning message in file.copy(savedcopy, lib, recursive = TRUE):\n",
      "\"problema al copiar C:\\Users\\razow\\Documents\\R\\win-library\\3.6\\00LOCK\\e1071\\libs\\x64\\e1071.dll  a C:\\Users\\razow\\Documents\\R\\win-library\\3.6\\e1071\\libs\\x64\\e1071.dll: Permission denied\"Warning message:\n",
      "\"restored 'e1071'\""
     ]
    },
    {
     "name": "stdout",
     "output_type": "stream",
     "text": [
      "\n",
      "The downloaded binary packages are in\n",
      "\tC:\\Users\\razow\\AppData\\Local\\Temp\\RtmpshSc8l\\downloaded_packages\n"
     ]
    },
    {
     "name": "stderr",
     "output_type": "stream",
     "text": [
      "Warning message:\n",
      "\"package 'e1071' was built under R version 3.6.3\"\n",
      "Attaching package: 'e1071'\n",
      "\n",
      "The following object is masked from 'package:mlr':\n",
      "\n",
      "    impute\n",
      "\n"
     ]
    }
   ],
   "source": [
    "# Data processing library\n",
    "library(data.table)\n",
    "library(varhandle)\n",
    "library(stringr)\n",
    "library(mlr)\n",
    "install.packages('woeBinning')\n",
    "library(woeBinning)  # Bin numerical and categorical variables\n",
    "library(Boruta)  # Variable selection\n",
    "\n",
    "# Machine learning library\n",
    "library(MASS)  # LDA\n",
    "library(randomForest)  # RF\n",
    "library(gbm)  # Boosting Tree\n",
    "library(xgboost)  # XGboost\n",
    "install.packages(\"ada\")\n",
    "library(ada)\n",
    "install.packages(\"e1071\")\n",
    "library(e1071)"
   ]
  },
  {
   "cell_type": "code",
   "execution_count": 2,
   "metadata": {},
   "outputs": [
    {
     "name": "stderr",
     "output_type": "stream",
     "text": [
      "Installing package into 'C:/Users/razow/Documents/R/win-library/3.6'\n",
      "(as 'lib' is unspecified)\n"
     ]
    },
    {
     "name": "stdout",
     "output_type": "stream",
     "text": [
      "package 'mlbench' successfully unpacked and MD5 sums checked\n"
     ]
    },
    {
     "name": "stderr",
     "output_type": "stream",
     "text": [
      "Warning message:\n",
      "\"cannot remove prior installation of package 'mlbench'\"Warning message in file.copy(savedcopy, lib, recursive = TRUE):\n",
      "\"problema al copiar C:\\Users\\razow\\Documents\\R\\win-library\\3.6\\00LOCK\\mlbench\\libs\\x64\\mlbench.dll  a C:\\Users\\razow\\Documents\\R\\win-library\\3.6\\mlbench\\libs\\x64\\mlbench.dll: Permission denied\"Warning message:\n",
      "\"restored 'mlbench'\""
     ]
    },
    {
     "name": "stdout",
     "output_type": "stream",
     "text": [
      "\n",
      "The downloaded binary packages are in\n",
      "\tC:\\Users\\razow\\AppData\\Local\\Temp\\RtmpshSc8l\\downloaded_packages\n"
     ]
    },
    {
     "name": "stderr",
     "output_type": "stream",
     "text": [
      "Warning message:\n",
      "\"package 'mlbench' was built under R version 3.6.3\""
     ]
    }
   ],
   "source": [
    "## Loading required package: mlbench\n",
    "install.packages(\"mlbench\")\n",
    "library(mlbench)"
   ]
  },
  {
   "cell_type": "markdown",
   "metadata": {},
   "source": [
    "## 2. Data exploration and processing"
   ]
  },
  {
   "cell_type": "markdown",
   "metadata": {},
   "source": [
    "#### Read and analize data"
   ]
  },
  {
   "cell_type": "code",
   "execution_count": 3,
   "metadata": {},
   "outputs": [],
   "source": [
    "# Read train, test\n",
    "train <- read.csv('C:/Users/razow/Desktop/IESEG Subjects/11 Statistical and machine learning approaches/Session 5/SML_Section5_v2.1/data/Kaggle/input/bank_mkt_train.csv')  # Training dataset\n",
    "test_holdout <- read.csv('C:/Users/razow/Desktop/IESEG Subjects/11 Statistical and machine learning approaches/Session 5/SML_Section5_v2.1/data/Kaggle/input/bank_mkt_test.csv')  # Holdout data set without response"
   ]
  },
  {
   "cell_type": "code",
   "execution_count": 4,
   "metadata": {},
   "outputs": [
    {
     "name": "stdout",
     "output_type": "stream",
     "text": [
      "'data.frame':\t7000 obs. of  21 variables:\n",
      " $ client_id     : int  2 3 4 5 6 7 8 9 14 15 ...\n",
      " $ age           : int  29 39 49 32 29 51 34 52 52 29 ...\n",
      " $ job           : Factor w/ 12 levels \"admin.\",\"blue-collar\",..: 4 11 2 7 1 7 2 8 1 1 ...\n",
      " $ marital       : Factor w/ 4 levels \"divorced\",\"married\",..: 3 2 2 3 3 2 2 2 2 3 ...\n",
      " $ education     : Factor w/ 8 levels \"basic.4y\",\"basic.6y\",..: 4 3 2 7 4 7 1 4 7 7 ...\n",
      " $ default       : Factor w/ 2 levels \"no\",\"unknown\": 1 2 2 1 2 2 1 1 1 1 ...\n",
      " $ housing       : Factor w/ 3 levels \"no\",\"unknown\",..: 1 3 1 3 3 3 3 3 3 3 ...\n",
      " $ loan          : Factor w/ 3 levels \"no\",\"unknown\",..: 1 1 1 1 1 1 1 1 1 1 ...\n",
      " $ contact       : Factor w/ 2 levels \"cellular\",\"telephone\": 2 2 1 1 1 2 1 1 1 1 ...\n",
      " $ month         : Factor w/ 10 levels \"apr\",\"aug\",\"dec\",..: 7 5 8 7 4 5 8 8 8 5 ...\n",
      " $ day_of_week   : Factor w/ 5 levels \"fri\",\"mon\",\"thu\",..: 2 1 4 2 1 4 4 4 3 2 ...\n",
      " $ campaign      : int  3 6 2 3 2 1 1 1 3 1 ...\n",
      " $ pdays         : int  999 999 999 999 999 999 999 999 999 999 ...\n",
      " $ previous      : int  0 0 0 1 0 0 0 0 0 0 ...\n",
      " $ poutcome      : Factor w/ 3 levels \"failure\",\"nonexistent\",..: 2 2 2 1 2 2 2 2 2 2 ...\n",
      " $ emp.var.rate  : num  1.1 1.4 -0.1 -1.8 1.4 1.4 -0.1 -0.1 -0.1 -2.9 ...\n",
      " $ cons.price.idx: num  94 94.5 93.2 92.9 93.9 ...\n",
      " $ cons.conf.idx : num  -36.4 -41.8 -42 -46.2 -42.7 -41.8 -42 -42 -42 -40.8 ...\n",
      " $ euribor3m     : num  4.86 4.96 4.15 1.3 4.96 ...\n",
      " $ nr.employed   : num  5191 5228 5196 5099 5228 ...\n",
      " $ subscribe     : int  0 0 0 0 0 0 0 0 0 0 ...\n"
     ]
    }
   ],
   "source": [
    "# Print out to check the data type\n",
    "str(train)"
   ]
  },
  {
   "cell_type": "code",
   "execution_count": 5,
   "metadata": {},
   "outputs": [
    {
     "name": "stdout",
     "output_type": "stream",
     "text": [
      "'data.frame':\t3000 obs. of  20 variables:\n",
      " $ client_id     : int  1 10 11 12 13 17 20 23 25 28 ...\n",
      " $ age           : int  33 45 33 38 30 33 37 50 43 37 ...\n",
      " $ job           : Factor w/ 12 levels \"admin.\",\"blue-collar\",..: 10 8 10 2 10 2 2 5 2 1 ...\n",
      " $ marital       : Factor w/ 4 levels \"divorced\",\"married\",..: 3 2 3 2 3 2 1 2 2 2 ...\n",
      " $ education     : Factor w/ 7 levels \"basic.4y\",\"basic.6y\",..: 6 4 5 3 6 3 5 6 3 6 ...\n",
      " $ default       : Factor w/ 2 levels \"no\",\"unknown\": 1 2 1 2 1 1 1 1 1 1 ...\n",
      " $ housing       : Factor w/ 3 levels \"no\",\"unknown\",..: 1 3 3 1 1 3 3 1 3 1 ...\n",
      " $ loan          : Factor w/ 3 levels \"no\",\"unknown\",..: 1 1 1 1 1 1 1 1 1 1 ...\n",
      " $ contact       : Factor w/ 2 levels \"cellular\",\"telephone\": 1 1 2 2 2 1 1 1 1 2 ...\n",
      " $ month         : Factor w/ 10 levels \"apr\",\"aug\",\"dec\",..: 8 2 6 4 7 4 8 4 8 5 ...\n",
      " $ day_of_week   : Factor w/ 5 levels \"fri\",\"mon\",\"thu\",..: 2 3 4 5 3 4 3 3 5 2 ...\n",
      " $ campaign      : int  1 3 2 3 5 1 1 1 1 8 ...\n",
      " $ pdays         : int  999 999 999 999 999 999 999 999 999 999 ...\n",
      " $ previous      : int  0 0 0 0 0 0 0 0 0 0 ...\n",
      " $ poutcome      : Factor w/ 3 levels \"failure\",\"nonexistent\",..: 2 2 2 2 2 2 2 2 2 2 ...\n",
      " $ emp.var.rate  : num  -0.1 1.4 -1.8 1.4 1.1 1.4 -0.1 1.4 -0.1 1.4 ...\n",
      " $ cons.price.idx: num  93.2 93.4 93.4 93.9 94 ...\n",
      " $ cons.conf.idx : num  -42 -36.1 -34.8 -42.7 -36.4 -42.7 -42 -42.7 -42 -41.8 ...\n",
      " $ euribor3m     : num  4.191 4.963 0.646 4.956 4.86 ...\n",
      " $ nr.employed   : num  5196 5228 5009 5228 5191 ...\n"
     ]
    }
   ],
   "source": [
    "str(test_holdout)"
   ]
  },
  {
   "cell_type": "code",
   "execution_count": 54,
   "metadata": {},
   "outputs": [
    {
     "data": {
      "text/plain": [
       "   client_id         age                 job           marital    \n",
       " Min.   :   2   Min.   :18.00   admin.     :1756   divorced: 758  \n",
       " 1st Qu.:2486   1st Qu.:32.00   blue-collar:1541   married :4306  \n",
       " Median :5018   Median :38.00   technician :1143   single  :1928  \n",
       " Mean   :5003   Mean   :40.34   services   : 668   unknown :   8  \n",
       " 3rd Qu.:7512   3rd Qu.:48.00   management : 534                  \n",
       " Max.   :9998   Max.   :98.00   retired    : 306                  \n",
       "                                (Other)    :1052                  \n",
       "               education       default        housing          loan     \n",
       " university.degree  :2103   no     :5571   no     :3189   no     :5806  \n",
       " high.school        :1638   unknown:1429   unknown: 171   unknown: 171  \n",
       " basic.9y           : 993                  yes    :3640   yes    :1023  \n",
       " professional.course: 886                                               \n",
       " basic.4y           : 716                                               \n",
       " basic.6y           : 362                                               \n",
       " (Other)            : 302                                               \n",
       "      contact         month      day_of_week    campaign          pdays      \n",
       " cellular :4482   may    :2323   fri:1320    Min.   : 1.000   Min.   :  0.0  \n",
       " telephone:2518   jul    :1220   mon:1426    1st Qu.: 1.000   1st Qu.:999.0  \n",
       "                  aug    :1036   thu:1440    Median : 2.000   Median :999.0  \n",
       "                  jun    : 896   tue:1421    Mean   : 2.555   Mean   :962.3  \n",
       "                  nov    : 689   wed:1393    3rd Qu.: 3.000   3rd Qu.:999.0  \n",
       "                  apr    : 452               Max.   :33.000   Max.   :999.0  \n",
       "                  (Other): 384                                               \n",
       "    previous             poutcome     emp.var.rate      cons.price.idx \n",
       " Min.   :0.0000   failure    : 748   Min.   :-3.40000   Min.   :92.20  \n",
       " 1st Qu.:0.0000   nonexistent:6021   1st Qu.:-1.80000   1st Qu.:93.08  \n",
       " Median :0.0000   success    : 231   Median : 1.10000   Median :93.44  \n",
       " Mean   :0.1761                      Mean   : 0.04881   Mean   :93.57  \n",
       " 3rd Qu.:0.0000                      3rd Qu.: 1.40000   3rd Qu.:93.99  \n",
       " Max.   :6.0000                      Max.   : 1.40000   Max.   :94.77  \n",
       "                                                                       \n",
       " cons.conf.idx      euribor3m      nr.employed     subscribe     \n",
       " Min.   :-50.80   Min.   :0.634   Min.   :4964   Min.   :0.0000  \n",
       " 1st Qu.:-42.70   1st Qu.:1.334   1st Qu.:5099   1st Qu.:0.0000  \n",
       " Median :-41.80   Median :4.857   Median :5191   Median :0.0000  \n",
       " Mean   :-40.47   Mean   :3.587   Mean   :5165   Mean   :0.1174  \n",
       " 3rd Qu.:-36.40   3rd Qu.:4.961   3rd Qu.:5228   3rd Qu.:0.0000  \n",
       " Max.   :-26.90   Max.   :5.045   Max.   :5228   Max.   :1.0000  \n",
       "                                                                 \n",
       "   pdays_999      age_ge_mean      month_summer   \n",
       " Min.   :0.000   Min.   :0.0000   Min.   :0.0000  \n",
       " 1st Qu.:1.000   1st Qu.:0.0000   1st Qu.:0.0000  \n",
       " Median :1.000   Median :0.0000   Median :0.0000  \n",
       " Mean   :0.963   Mean   :0.4344   Mean   :0.3223  \n",
       " 3rd Qu.:1.000   3rd Qu.:1.0000   3rd Qu.:1.0000  \n",
       " Max.   :1.000   Max.   :1.0000   Max.   :1.0000  \n",
       "                                                  \n",
       "                                               job.binned       age.binned  \n",
       " admin. + management + technician + misc. level neg.:3907   (-Inf,26]: 372  \n",
       " blue-collar + services                             :2209   (26,36]  :2704  \n",
       " misc. level pos.                                   : 884   (36,55]  :3291  \n",
       " unknown                                            :   0   (55, Inf]: 633  \n",
       "                                                            Missing  :   0  \n",
       "                                                                            \n",
       "                                                                            "
      ]
     },
     "metadata": {},
     "output_type": "display_data"
    }
   ],
   "source": [
    "summary(train)"
   ]
  },
  {
   "cell_type": "code",
   "execution_count": 55,
   "metadata": {},
   "outputs": [
    {
     "data": {
      "text/plain": [
       "   client_id          age                  job          marital    \n",
       " Min.   :    1   Min.   :18.00   admin.      :768   divorced: 367  \n",
       " 1st Qu.: 2525   1st Qu.:32.00   blue-collar :681   married :1731  \n",
       " Median : 4968   Median :38.00   technician  :519   single  : 892  \n",
       " Mean   : 4996   Mean   :39.78   services    :258   unknown :  10  \n",
       " 3rd Qu.: 7478   3rd Qu.:47.00   management  :213                  \n",
       " Max.   :10000   Max.   :85.00   entrepreneur:116                  \n",
       "                                 (Other)     :445                  \n",
       "               education      default        housing          loan     \n",
       " basic.4y           :302   no     :2369   no     :1372   no     :2469  \n",
       " basic.6y           :159   unknown: 631   unknown:  64   unknown:  64  \n",
       " basic.9y           :434                  yes    :1564   yes    : 467  \n",
       " high.school        :694                                               \n",
       " professional.course:392                                               \n",
       " university.degree  :878                                               \n",
       " unknown            :141                                               \n",
       "      contact         month     day_of_week    campaign         pdays      \n",
       " cellular :1896   may    :979   fri:593     Min.   : 1.00   Min.   :  0.0  \n",
       " telephone:1104   jul    :559   mon:631     1st Qu.: 1.00   1st Qu.:999.0  \n",
       "                  aug    :432   thu:585     Median : 2.00   Median :999.0  \n",
       "                  jun    :396   tue:601     Mean   : 2.67   Mean   :963.9  \n",
       "                  nov    :282   wed:590     3rd Qu.: 3.00   3rd Qu.:999.0  \n",
       "                  apr    :197               Max.   :42.00   Max.   :999.0  \n",
       "                  (Other):155                                              \n",
       "    previous             poutcome     emp.var.rate     cons.price.idx \n",
       " Min.   :0.0000   failure    : 293   Min.   :-3.4000   Min.   :92.20  \n",
       " 1st Qu.:0.0000   nonexistent:2612   1st Qu.:-1.8000   1st Qu.:93.08  \n",
       " Median :0.0000   success    :  95   Median : 1.1000   Median :93.92  \n",
       " Mean   :0.1643                      Mean   : 0.0977   Mean   :93.59  \n",
       " 3rd Qu.:0.0000                      3rd Qu.: 1.4000   3rd Qu.:93.99  \n",
       " Max.   :5.0000                      Max.   : 1.4000   Max.   :94.77  \n",
       "                                                                      \n",
       " cons.conf.idx      euribor3m      nr.employed     pdays_999     \n",
       " Min.   :-50.80   Min.   :0.634   Min.   :4964   Min.   :0.0000  \n",
       " 1st Qu.:-42.70   1st Qu.:1.344   1st Qu.:5099   1st Qu.:1.0000  \n",
       " Median :-41.80   Median :4.857   Median :5191   Median :1.0000  \n",
       " Mean   :-40.47   Mean   :3.637   Mean   :5167   Mean   :0.9647  \n",
       " 3rd Qu.:-36.40   3rd Qu.:4.961   3rd Qu.:5228   3rd Qu.:1.0000  \n",
       " Max.   :-26.90   Max.   :5.045   Max.   :5228   Max.   :1.0000  \n",
       "                                                                 \n",
       "  age_ge_mean      month_summer   \n",
       " Min.   :0.0000   Min.   :0.0000  \n",
       " 1st Qu.:0.0000   1st Qu.:0.0000  \n",
       " Median :0.0000   Median :0.0000  \n",
       " Mean   :0.4113   Mean   :0.3303  \n",
       " 3rd Qu.:1.0000   3rd Qu.:1.0000  \n",
       " Max.   :1.0000   Max.   :1.0000  \n",
       "                                  \n",
       "                                               job.binned       age.binned  \n",
       " admin. + management + technician + misc. level neg.:1710   (-Inf,26]: 171  \n",
       " blue-collar + services                             : 939   (26,36]  :1189  \n",
       " misc. level pos.                                   : 351   (36,55]  :1380  \n",
       " unknown                                            :   0   (55, Inf]: 260  \n",
       "                                                            Missing  :   0  \n",
       "                                                                            \n",
       "                                                                            \n",
       " subscribe     \n",
       " Mode:logical  \n",
       " NA's:3000     \n",
       "               \n",
       "               \n",
       "               \n",
       "               \n",
       "               "
      ]
     },
     "metadata": {},
     "output_type": "display_data"
    }
   ],
   "source": [
    "summary(test_holdout)"
   ]
  },
  {
   "cell_type": "markdown",
   "metadata": {},
   "source": [
    "#### Check and fix data error (if any)."
   ]
  },
  {
   "cell_type": "code",
   "execution_count": 8,
   "metadata": {},
   "outputs": [
    {
     "data": {
      "text/html": [
       "<style>\n",
       ".dl-inline {width: auto; margin:0; padding: 0}\n",
       ".dl-inline>dt, .dl-inline>dd {float: none; width: auto; display: inline-block}\n",
       ".dl-inline>dt::after {content: \":\\0020\"; padding-right: .5ex}\n",
       ".dl-inline>dt:not(:first-of-type) {padding-left: .5ex}\n",
       "</style><dl class=dl-inline><dt>client_id</dt><dd>0</dd><dt>age</dt><dd>0</dd><dt>job</dt><dd>0</dd><dt>marital</dt><dd>0</dd><dt>education</dt><dd>0</dd><dt>default</dt><dd>0</dd><dt>housing</dt><dd>0</dd><dt>loan</dt><dd>0</dd><dt>contact</dt><dd>0</dd><dt>month</dt><dd>0</dd><dt>day_of_week</dt><dd>0</dd><dt>campaign</dt><dd>0</dd><dt>pdays</dt><dd>0</dd><dt>previous</dt><dd>0</dd><dt>poutcome</dt><dd>0</dd><dt>emp.var.rate</dt><dd>0</dd><dt>cons.price.idx</dt><dd>0</dd><dt>cons.conf.idx</dt><dd>0</dd><dt>euribor3m</dt><dd>0</dd><dt>nr.employed</dt><dd>0</dd><dt>subscribe</dt><dd>0</dd></dl>\n"
      ],
      "text/latex": [
       "\\begin{description*}\n",
       "\\item[client\\textbackslash{}\\_id] 0\n",
       "\\item[age] 0\n",
       "\\item[job] 0\n",
       "\\item[marital] 0\n",
       "\\item[education] 0\n",
       "\\item[default] 0\n",
       "\\item[housing] 0\n",
       "\\item[loan] 0\n",
       "\\item[contact] 0\n",
       "\\item[month] 0\n",
       "\\item[day\\textbackslash{}\\_of\\textbackslash{}\\_week] 0\n",
       "\\item[campaign] 0\n",
       "\\item[pdays] 0\n",
       "\\item[previous] 0\n",
       "\\item[poutcome] 0\n",
       "\\item[emp.var.rate] 0\n",
       "\\item[cons.price.idx] 0\n",
       "\\item[cons.conf.idx] 0\n",
       "\\item[euribor3m] 0\n",
       "\\item[nr.employed] 0\n",
       "\\item[subscribe] 0\n",
       "\\end{description*}\n"
      ],
      "text/markdown": [
       "client_id\n",
       ":   0age\n",
       ":   0job\n",
       ":   0marital\n",
       ":   0education\n",
       ":   0default\n",
       ":   0housing\n",
       ":   0loan\n",
       ":   0contact\n",
       ":   0month\n",
       ":   0day_of_week\n",
       ":   0campaign\n",
       ":   0pdays\n",
       ":   0previous\n",
       ":   0poutcome\n",
       ":   0emp.var.rate\n",
       ":   0cons.price.idx\n",
       ":   0cons.conf.idx\n",
       ":   0euribor3m\n",
       ":   0nr.employed\n",
       ":   0subscribe\n",
       ":   0\n",
       "\n"
      ],
      "text/plain": [
       "     client_id            age            job        marital      education \n",
       "             0              0              0              0              0 \n",
       "       default        housing           loan        contact          month \n",
       "             0              0              0              0              0 \n",
       "   day_of_week       campaign          pdays       previous       poutcome \n",
       "             0              0              0              0              0 \n",
       "  emp.var.rate cons.price.idx  cons.conf.idx      euribor3m    nr.employed \n",
       "             0              0              0              0              0 \n",
       "     subscribe \n",
       "             0 "
      ]
     },
     "metadata": {},
     "output_type": "display_data"
    }
   ],
   "source": [
    "# Check missing value\n",
    "apply(is.na(train), 2, sum)"
   ]
  },
  {
   "cell_type": "markdown",
   "metadata": {},
   "source": [
    "### Feature engineering"
   ]
  },
  {
   "cell_type": "markdown",
   "metadata": {},
   "source": [
    "#### Add variable: pdays_999"
   ]
  },
  {
   "cell_type": "code",
   "execution_count": 9,
   "metadata": {},
   "outputs": [],
   "source": [
    "# Add new variable to train and test (holdout)\n",
    "# pdays == 999 is a special value\n",
    "# Train\n",
    "train[, 'pdays_999'] <- as.integer(train$pdays == 999)\n",
    "# Test (holdout)\n",
    "test_holdout[, 'pdays_999'] <- as.integer(test_holdout$pdays == 999)"
   ]
  },
  {
   "cell_type": "markdown",
   "metadata": {},
   "source": [
    "#### Add variable: age > mean(age)"
   ]
  },
  {
   "cell_type": "code",
   "execution_count": 10,
   "metadata": {},
   "outputs": [],
   "source": [
    "# Add new variable to train and test (holdout)\n",
    "# Train\n",
    "train[, 'age_ge_mean'] <- as.integer(train$age > mean(train$age))\n",
    "# Test (holdout)\n",
    "test_holdout[, 'age_ge_mean'] <- as.integer(test_holdout$age > mean(train$age))"
   ]
  },
  {
   "cell_type": "markdown",
   "metadata": {},
   "source": [
    "#### Add variable: month_summer"
   ]
  },
  {
   "cell_type": "code",
   "execution_count": 11,
   "metadata": {},
   "outputs": [],
   "source": [
    "# Add new variable to train and test (holdout)\n",
    "# Train\n",
    "train[, 'month_summer'] <- as.integer(train$month %in% c('jul', 'aug'))\n",
    "# Test (holdout)\n",
    "test_holdout[, 'month_summer'] <- as.integer(test_holdout$month %in% c('jul', 'aug'))"
   ]
  },
  {
   "cell_type": "markdown",
   "metadata": {},
   "source": [
    "### Data Processing"
   ]
  },
  {
   "cell_type": "markdown",
   "metadata": {},
   "source": [
    "#### Grouping (or binning) categorical variables"
   ]
  },
  {
   "cell_type": "code",
   "execution_count": 12,
   "metadata": {},
   "outputs": [
    {
     "data": {
      "text/html": [
       "<ol>\n",
       "\t<li>'job'</li>\n",
       "\t<li><table>\n",
       "<caption>A data.frame: 12 × 9</caption>\n",
       "<thead>\n",
       "\t<tr><th></th><th scope=col>Group.2</th><th scope=col>Group.1</th><th scope=col>woe</th><th scope=col>iv.total.final</th><th scope=col>1</th><th scope=col>0</th><th scope=col>col.perc.a</th><th scope=col>col.perc.b</th><th scope=col>iv.bins</th></tr>\n",
       "\t<tr><th></th><th scope=col>&lt;fct&gt;</th><th scope=col>&lt;fct&gt;</th><th scope=col>&lt;dbl&gt;</th><th scope=col>&lt;dbl&gt;</th><th scope=col>&lt;int&gt;</th><th scope=col>&lt;int&gt;</th><th scope=col>&lt;dbl&gt;</th><th scope=col>&lt;dbl&gt;</th><th scope=col>&lt;dbl&gt;</th></tr>\n",
       "</thead>\n",
       "<tbody>\n",
       "\t<tr><th scope=row>7</th><td>blue-collar + services                             </td><td>blue-collar  </td><td>-46.7406855</td><td>0.1562879</td><td>170</td><td>2039</td><td>0.2068127</td><td>0.3300421</td><td>5.759828e-02</td></tr>\n",
       "\t<tr><th scope=row>8</th><td>blue-collar + services                             </td><td>services     </td><td>-46.7406855</td><td>0.1562879</td><td>170</td><td>2039</td><td>0.2068127</td><td>0.3300421</td><td>5.759828e-02</td></tr>\n",
       "\t<tr><th scope=row>1</th><td>admin. + management + technician + misc. level neg.</td><td>admin.       </td><td> -0.9402155</td><td>0.1562879</td><td>455</td><td>3452</td><td>0.5535280</td><td>0.5587569</td><td>4.916292e-05</td></tr>\n",
       "\t<tr><th scope=row>2</th><td>admin. + management + technician + misc. level neg.</td><td>entrepreneur </td><td> -0.9402155</td><td>0.1562879</td><td>455</td><td>3452</td><td>0.5535280</td><td>0.5587569</td><td>4.916292e-05</td></tr>\n",
       "\t<tr><th scope=row>3</th><td>admin. + management + technician + misc. level neg.</td><td>housemaid    </td><td> -0.9402155</td><td>0.1562879</td><td>455</td><td>3452</td><td>0.5535280</td><td>0.5587569</td><td>4.916292e-05</td></tr>\n",
       "\t<tr><th scope=row>4</th><td>admin. + management + technician + misc. level neg.</td><td>management   </td><td> -0.9402155</td><td>0.1562879</td><td>455</td><td>3452</td><td>0.5535280</td><td>0.5587569</td><td>4.916292e-05</td></tr>\n",
       "\t<tr><th scope=row>5</th><td>admin. + management + technician + misc. level neg.</td><td>technician   </td><td> -0.9402155</td><td>0.1562879</td><td>455</td><td>3452</td><td>0.5535280</td><td>0.5587569</td><td>4.916292e-05</td></tr>\n",
       "\t<tr><th scope=row>6</th><td>admin. + management + technician + misc. level neg.</td><td>unknown      </td><td> -0.9402155</td><td>0.1562879</td><td>455</td><td>3452</td><td>0.5535280</td><td>0.5587569</td><td>4.916292e-05</td></tr>\n",
       "\t<tr><th scope=row>9</th><td>misc. level pos.                                   </td><td>retired      </td><td> 76.7878915</td><td>0.1562879</td><td>197</td><td> 687</td><td>0.2396594</td><td>0.1112010</td><td>9.864044e-02</td></tr>\n",
       "\t<tr><th scope=row>10</th><td>misc. level pos.                                   </td><td>self-employed</td><td> 76.7878915</td><td>0.1562879</td><td>197</td><td> 687</td><td>0.2396594</td><td>0.1112010</td><td>9.864044e-02</td></tr>\n",
       "\t<tr><th scope=row>11</th><td>misc. level pos.                                   </td><td>student      </td><td> 76.7878915</td><td>0.1562879</td><td>197</td><td> 687</td><td>0.2396594</td><td>0.1112010</td><td>9.864044e-02</td></tr>\n",
       "\t<tr><th scope=row>12</th><td>misc. level pos.                                   </td><td>unemployed   </td><td> 76.7878915</td><td>0.1562879</td><td>197</td><td> 687</td><td>0.2396594</td><td>0.1112010</td><td>9.864044e-02</td></tr>\n",
       "</tbody>\n",
       "</table>\n",
       "</li>\n",
       "\t<li><strong>iv.total.final:</strong> 0.156287888710747</li>\n",
       "</ol>\n"
      ],
      "text/latex": [
       "\\begin{enumerate}\n",
       "\\item 'job'\n",
       "\\item A data.frame: 12 × 9\n",
       "\\begin{tabular}{r|lllllllll}\n",
       "  & Group.2 & Group.1 & woe & iv.total.final & 1 & 0 & col.perc.a & col.perc.b & iv.bins\\\\\n",
       "  & <fct> & <fct> & <dbl> & <dbl> & <int> & <int> & <dbl> & <dbl> & <dbl>\\\\\n",
       "\\hline\n",
       "\t7 & blue-collar + services                              & blue-collar   & -46.7406855 & 0.1562879 & 170 & 2039 & 0.2068127 & 0.3300421 & 5.759828e-02\\\\\n",
       "\t8 & blue-collar + services                              & services      & -46.7406855 & 0.1562879 & 170 & 2039 & 0.2068127 & 0.3300421 & 5.759828e-02\\\\\n",
       "\t1 & admin. + management + technician + misc. level neg. & admin.        &  -0.9402155 & 0.1562879 & 455 & 3452 & 0.5535280 & 0.5587569 & 4.916292e-05\\\\\n",
       "\t2 & admin. + management + technician + misc. level neg. & entrepreneur  &  -0.9402155 & 0.1562879 & 455 & 3452 & 0.5535280 & 0.5587569 & 4.916292e-05\\\\\n",
       "\t3 & admin. + management + technician + misc. level neg. & housemaid     &  -0.9402155 & 0.1562879 & 455 & 3452 & 0.5535280 & 0.5587569 & 4.916292e-05\\\\\n",
       "\t4 & admin. + management + technician + misc. level neg. & management    &  -0.9402155 & 0.1562879 & 455 & 3452 & 0.5535280 & 0.5587569 & 4.916292e-05\\\\\n",
       "\t5 & admin. + management + technician + misc. level neg. & technician    &  -0.9402155 & 0.1562879 & 455 & 3452 & 0.5535280 & 0.5587569 & 4.916292e-05\\\\\n",
       "\t6 & admin. + management + technician + misc. level neg. & unknown       &  -0.9402155 & 0.1562879 & 455 & 3452 & 0.5535280 & 0.5587569 & 4.916292e-05\\\\\n",
       "\t9 & misc. level pos.                                    & retired       &  76.7878915 & 0.1562879 & 197 &  687 & 0.2396594 & 0.1112010 & 9.864044e-02\\\\\n",
       "\t10 & misc. level pos.                                    & self-employed &  76.7878915 & 0.1562879 & 197 &  687 & 0.2396594 & 0.1112010 & 9.864044e-02\\\\\n",
       "\t11 & misc. level pos.                                    & student       &  76.7878915 & 0.1562879 & 197 &  687 & 0.2396594 & 0.1112010 & 9.864044e-02\\\\\n",
       "\t12 & misc. level pos.                                    & unemployed    &  76.7878915 & 0.1562879 & 197 &  687 & 0.2396594 & 0.1112010 & 9.864044e-02\\\\\n",
       "\\end{tabular}\n",
       "\n",
       "\\item \\textbf{iv.total.final:} 0.156287888710747\n",
       "\\end{enumerate}\n"
      ],
      "text/markdown": [
       "1. 'job'\n",
       "2. \n",
       "A data.frame: 12 × 9\n",
       "\n",
       "| <!--/--> | Group.2 &lt;fct&gt; | Group.1 &lt;fct&gt; | woe &lt;dbl&gt; | iv.total.final &lt;dbl&gt; | 1 &lt;int&gt; | 0 &lt;int&gt; | col.perc.a &lt;dbl&gt; | col.perc.b &lt;dbl&gt; | iv.bins &lt;dbl&gt; |\n",
       "|---|---|---|---|---|---|---|---|---|---|\n",
       "| 7 | blue-collar + services                              | blue-collar   | -46.7406855 | 0.1562879 | 170 | 2039 | 0.2068127 | 0.3300421 | 5.759828e-02 |\n",
       "| 8 | blue-collar + services                              | services      | -46.7406855 | 0.1562879 | 170 | 2039 | 0.2068127 | 0.3300421 | 5.759828e-02 |\n",
       "| 1 | admin. + management + technician + misc. level neg. | admin.        |  -0.9402155 | 0.1562879 | 455 | 3452 | 0.5535280 | 0.5587569 | 4.916292e-05 |\n",
       "| 2 | admin. + management + technician + misc. level neg. | entrepreneur  |  -0.9402155 | 0.1562879 | 455 | 3452 | 0.5535280 | 0.5587569 | 4.916292e-05 |\n",
       "| 3 | admin. + management + technician + misc. level neg. | housemaid     |  -0.9402155 | 0.1562879 | 455 | 3452 | 0.5535280 | 0.5587569 | 4.916292e-05 |\n",
       "| 4 | admin. + management + technician + misc. level neg. | management    |  -0.9402155 | 0.1562879 | 455 | 3452 | 0.5535280 | 0.5587569 | 4.916292e-05 |\n",
       "| 5 | admin. + management + technician + misc. level neg. | technician    |  -0.9402155 | 0.1562879 | 455 | 3452 | 0.5535280 | 0.5587569 | 4.916292e-05 |\n",
       "| 6 | admin. + management + technician + misc. level neg. | unknown       |  -0.9402155 | 0.1562879 | 455 | 3452 | 0.5535280 | 0.5587569 | 4.916292e-05 |\n",
       "| 9 | misc. level pos.                                    | retired       |  76.7878915 | 0.1562879 | 197 |  687 | 0.2396594 | 0.1112010 | 9.864044e-02 |\n",
       "| 10 | misc. level pos.                                    | self-employed |  76.7878915 | 0.1562879 | 197 |  687 | 0.2396594 | 0.1112010 | 9.864044e-02 |\n",
       "| 11 | misc. level pos.                                    | student       |  76.7878915 | 0.1562879 | 197 |  687 | 0.2396594 | 0.1112010 | 9.864044e-02 |\n",
       "| 12 | misc. level pos.                                    | unemployed    |  76.7878915 | 0.1562879 | 197 |  687 | 0.2396594 | 0.1112010 | 9.864044e-02 |\n",
       "\n",
       "\n",
       "3. **iv.total.final:** 0.156287888710747\n",
       "\n",
       "\n"
      ],
      "text/plain": [
       "[[1]]\n",
       "[1] \"job\"\n",
       "\n",
       "[[2]]\n",
       "                                               Group.2       Group.1\n",
       "7                               blue-collar + services   blue-collar\n",
       "8                               blue-collar + services      services\n",
       "1  admin. + management + technician + misc. level neg.        admin.\n",
       "2  admin. + management + technician + misc. level neg.  entrepreneur\n",
       "3  admin. + management + technician + misc. level neg.     housemaid\n",
       "4  admin. + management + technician + misc. level neg.    management\n",
       "5  admin. + management + technician + misc. level neg.    technician\n",
       "6  admin. + management + technician + misc. level neg.       unknown\n",
       "9                                     misc. level pos.       retired\n",
       "10                                    misc. level pos. self-employed\n",
       "11                                    misc. level pos.       student\n",
       "12                                    misc. level pos.    unemployed\n",
       "           woe iv.total.final   1    0 col.perc.a col.perc.b      iv.bins\n",
       "7  -46.7406855      0.1562879 170 2039  0.2068127  0.3300421 5.759828e-02\n",
       "8  -46.7406855      0.1562879 170 2039  0.2068127  0.3300421 5.759828e-02\n",
       "1   -0.9402155      0.1562879 455 3452  0.5535280  0.5587569 4.916292e-05\n",
       "2   -0.9402155      0.1562879 455 3452  0.5535280  0.5587569 4.916292e-05\n",
       "3   -0.9402155      0.1562879 455 3452  0.5535280  0.5587569 4.916292e-05\n",
       "4   -0.9402155      0.1562879 455 3452  0.5535280  0.5587569 4.916292e-05\n",
       "5   -0.9402155      0.1562879 455 3452  0.5535280  0.5587569 4.916292e-05\n",
       "6   -0.9402155      0.1562879 455 3452  0.5535280  0.5587569 4.916292e-05\n",
       "9   76.7878915      0.1562879 197  687  0.2396594  0.1112010 9.864044e-02\n",
       "10  76.7878915      0.1562879 197  687  0.2396594  0.1112010 9.864044e-02\n",
       "11  76.7878915      0.1562879 197  687  0.2396594  0.1112010 9.864044e-02\n",
       "12  76.7878915      0.1562879 197  687  0.2396594  0.1112010 9.864044e-02\n",
       "\n",
       "[[3]]\n",
       "iv.total.final \n",
       "     0.1562879 \n"
      ]
     },
     "metadata": {},
     "output_type": "display_data"
    }
   ],
   "source": [
    "# Grouping 12 categories in the variable job onto 3 groups using WOE\n",
    "binning_cat <- woe.binning(train, 'subscribe', 'job')\n",
    "binning_cat"
   ]
  },
  {
   "cell_type": "code",
   "execution_count": 13,
   "metadata": {
    "scrolled": true
   },
   "outputs": [
    {
     "data": {
      "text/html": [
       "<table>\n",
       "<caption>A data.frame: 6 × 2</caption>\n",
       "<thead>\n",
       "\t<tr><th></th><th scope=col>job</th><th scope=col>job.binned</th></tr>\n",
       "\t<tr><th></th><th scope=col>&lt;fct&gt;</th><th scope=col>&lt;fct&gt;</th></tr>\n",
       "</thead>\n",
       "<tbody>\n",
       "\t<tr><th scope=row>1</th><td>housemaid    </td><td>admin. + management + technician + misc. level neg.</td></tr>\n",
       "\t<tr><th scope=row>2</th><td>unemployed   </td><td>misc. level pos.                                   </td></tr>\n",
       "\t<tr><th scope=row>3</th><td>blue-collar  </td><td>blue-collar + services                             </td></tr>\n",
       "\t<tr><th scope=row>4</th><td>self-employed</td><td>misc. level pos.                                   </td></tr>\n",
       "\t<tr><th scope=row>5</th><td>admin.       </td><td>admin. + management + technician + misc. level neg.</td></tr>\n",
       "\t<tr><th scope=row>6</th><td>self-employed</td><td>misc. level pos.                                   </td></tr>\n",
       "</tbody>\n",
       "</table>\n"
      ],
      "text/latex": [
       "A data.frame: 6 × 2\n",
       "\\begin{tabular}{r|ll}\n",
       "  & job & job.binned\\\\\n",
       "  & <fct> & <fct>\\\\\n",
       "\\hline\n",
       "\t1 & housemaid     & admin. + management + technician + misc. level neg.\\\\\n",
       "\t2 & unemployed    & misc. level pos.                                   \\\\\n",
       "\t3 & blue-collar   & blue-collar + services                             \\\\\n",
       "\t4 & self-employed & misc. level pos.                                   \\\\\n",
       "\t5 & admin.        & admin. + management + technician + misc. level neg.\\\\\n",
       "\t6 & self-employed & misc. level pos.                                   \\\\\n",
       "\\end{tabular}\n"
      ],
      "text/markdown": [
       "\n",
       "A data.frame: 6 × 2\n",
       "\n",
       "| <!--/--> | job &lt;fct&gt; | job.binned &lt;fct&gt; |\n",
       "|---|---|---|\n",
       "| 1 | housemaid     | admin. + management + technician + misc. level neg. |\n",
       "| 2 | unemployed    | misc. level pos.                                    |\n",
       "| 3 | blue-collar   | blue-collar + services                              |\n",
       "| 4 | self-employed | misc. level pos.                                    |\n",
       "| 5 | admin.        | admin. + management + technician + misc. level neg. |\n",
       "| 6 | self-employed | misc. level pos.                                    |\n",
       "\n"
      ],
      "text/plain": [
       "  job           job.binned                                         \n",
       "1 housemaid     admin. + management + technician + misc. level neg.\n",
       "2 unemployed    misc. level pos.                                   \n",
       "3 blue-collar   blue-collar + services                             \n",
       "4 self-employed misc. level pos.                                   \n",
       "5 admin.        admin. + management + technician + misc. level neg.\n",
       "6 self-employed misc. level pos.                                   "
      ]
     },
     "metadata": {},
     "output_type": "display_data"
    }
   ],
   "source": [
    "# Apply the binning to the train data\n",
    "train <- woe.binning.deploy(train, binning_cat)\n",
    "head(train[, c('job', 'job.binned')])"
   ]
  },
  {
   "cell_type": "code",
   "execution_count": 14,
   "metadata": {},
   "outputs": [],
   "source": [
    "# Apply the binning to the test (holdout) data\n",
    "test_holdout <- woe.binning.deploy(test_holdout, binning_cat)"
   ]
  },
  {
   "cell_type": "markdown",
   "metadata": {},
   "source": [
    "#### Grouping (or binning) numerical variables"
   ]
  },
  {
   "cell_type": "code",
   "execution_count": 15,
   "metadata": {},
   "outputs": [
    {
     "data": {
      "text/html": [
       "<ol>\n",
       "\t<li>'age'</li>\n",
       "\t<li><table>\n",
       "<caption>A data.frame: 5 × 9</caption>\n",
       "<thead>\n",
       "\t<tr><th></th><th scope=col>woe</th><th scope=col>cutpoints.final</th><th scope=col>cutpoints.final[-1]</th><th scope=col>iv.total.final</th><th scope=col>1</th><th scope=col>0</th><th scope=col>col.perc.a</th><th scope=col>col.perc.b</th><th scope=col>iv.bins</th></tr>\n",
       "\t<tr><th></th><th scope=col>&lt;dbl&gt;</th><th scope=col>&lt;dbl&gt;</th><th scope=col>&lt;chr&gt;</th><th scope=col>&lt;dbl&gt;</th><th scope=col>&lt;int&gt;</th><th scope=col>&lt;int&gt;</th><th scope=col>&lt;dbl&gt;</th><th scope=col>&lt;dbl&gt;</th><th scope=col>&lt;dbl&gt;</th></tr>\n",
       "</thead>\n",
       "<tbody>\n",
       "\t<tr><th scope=row>(-Inf,26]</th><td> 57.257909</td><td>-Inf</td><td>26     </td><td>0.1546488</td><td> 71</td><td> 301</td><td>0.0863747</td><td>0.04872127</td><td>0.021559565</td></tr>\n",
       "\t<tr><th scope=row>(26,36]</th><td>  2.639915</td><td>  26</td><td>36     </td><td>0.1546488</td><td>325</td><td>2379</td><td>0.3953771</td><td>0.38507608</td><td>0.000271939</td></tr>\n",
       "\t<tr><th scope=row>(36,55]</th><td>-35.822845</td><td>  36</td><td>55     </td><td>0.1546488</td><td>280</td><td>3011</td><td>0.3406326</td><td>0.48737455</td><td>0.052567141</td></tr>\n",
       "\t<tr><th scope=row>(55, Inf]</th><td> 81.235198</td><td>  55</td><td>Inf    </td><td>0.1546488</td><td>146</td><td> 487</td><td>0.1776156</td><td>0.07882810</td><td>0.080250198</td></tr>\n",
       "\t<tr><th scope=row>Missing</th><td>        NA</td><td> Inf</td><td>Missing</td><td>0.1546488</td><td>  0</td><td>   0</td><td>0.0000000</td><td>0.00000000</td><td>         NA</td></tr>\n",
       "</tbody>\n",
       "</table>\n",
       "</li>\n",
       "\t<li><strong>iv.total.final:</strong> 0.15464884355</li>\n",
       "</ol>\n"
      ],
      "text/latex": [
       "\\begin{enumerate}\n",
       "\\item 'age'\n",
       "\\item A data.frame: 5 × 9\n",
       "\\begin{tabular}{r|lllllllll}\n",
       "  & woe & cutpoints.final & cutpoints.final{[}-1{]} & iv.total.final & 1 & 0 & col.perc.a & col.perc.b & iv.bins\\\\\n",
       "  & <dbl> & <dbl> & <chr> & <dbl> & <int> & <int> & <dbl> & <dbl> & <dbl>\\\\\n",
       "\\hline\n",
       "\t(-Inf,26{]} &  57.257909 & -Inf & 26      & 0.1546488 &  71 &  301 & 0.0863747 & 0.04872127 & 0.021559565\\\\\n",
       "\t(26,36{]} &   2.639915 &   26 & 36      & 0.1546488 & 325 & 2379 & 0.3953771 & 0.38507608 & 0.000271939\\\\\n",
       "\t(36,55{]} & -35.822845 &   36 & 55      & 0.1546488 & 280 & 3011 & 0.3406326 & 0.48737455 & 0.052567141\\\\\n",
       "\t(55, Inf{]} &  81.235198 &   55 & Inf     & 0.1546488 & 146 &  487 & 0.1776156 & 0.07882810 & 0.080250198\\\\\n",
       "\tMissing &         NA &  Inf & Missing & 0.1546488 &   0 &    0 & 0.0000000 & 0.00000000 &          NA\\\\\n",
       "\\end{tabular}\n",
       "\n",
       "\\item \\textbf{iv.total.final:} 0.15464884355\n",
       "\\end{enumerate}\n"
      ],
      "text/markdown": [
       "1. 'age'\n",
       "2. \n",
       "A data.frame: 5 × 9\n",
       "\n",
       "| <!--/--> | woe &lt;dbl&gt; | cutpoints.final &lt;dbl&gt; | cutpoints.final[-1] &lt;chr&gt; | iv.total.final &lt;dbl&gt; | 1 &lt;int&gt; | 0 &lt;int&gt; | col.perc.a &lt;dbl&gt; | col.perc.b &lt;dbl&gt; | iv.bins &lt;dbl&gt; |\n",
       "|---|---|---|---|---|---|---|---|---|---|\n",
       "| (-Inf,26] |  57.257909 | -Inf | 26      | 0.1546488 |  71 |  301 | 0.0863747 | 0.04872127 | 0.021559565 |\n",
       "| (26,36] |   2.639915 |   26 | 36      | 0.1546488 | 325 | 2379 | 0.3953771 | 0.38507608 | 0.000271939 |\n",
       "| (36,55] | -35.822845 |   36 | 55      | 0.1546488 | 280 | 3011 | 0.3406326 | 0.48737455 | 0.052567141 |\n",
       "| (55, Inf] |  81.235198 |   55 | Inf     | 0.1546488 | 146 |  487 | 0.1776156 | 0.07882810 | 0.080250198 |\n",
       "| Missing |         NA |  Inf | Missing | 0.1546488 |   0 |    0 | 0.0000000 | 0.00000000 |          NA |\n",
       "\n",
       "\n",
       "3. **iv.total.final:** 0.15464884355\n",
       "\n",
       "\n"
      ],
      "text/plain": [
       "[[1]]\n",
       "[1] \"age\"\n",
       "\n",
       "[[2]]\n",
       "                 woe cutpoints.final cutpoints.final[-1] iv.total.final   1\n",
       "(-Inf,26]  57.257909            -Inf                  26      0.1546488  71\n",
       "(26,36]     2.639915              26                  36      0.1546488 325\n",
       "(36,55]   -35.822845              36                  55      0.1546488 280\n",
       "(55, Inf]  81.235198              55                 Inf      0.1546488 146\n",
       "Missing           NA             Inf             Missing      0.1546488   0\n",
       "             0 col.perc.a col.perc.b     iv.bins\n",
       "(-Inf,26]  301  0.0863747 0.04872127 0.021559565\n",
       "(26,36]   2379  0.3953771 0.38507608 0.000271939\n",
       "(36,55]   3011  0.3406326 0.48737455 0.052567141\n",
       "(55, Inf]  487  0.1776156 0.07882810 0.080250198\n",
       "Missing      0  0.0000000 0.00000000          NA\n",
       "\n",
       "[[3]]\n",
       "iv.total.final \n",
       "     0.1546488 \n"
      ]
     },
     "metadata": {},
     "output_type": "display_data"
    }
   ],
   "source": [
    "# Grouping the variable age onto 4 groups using WOE\n",
    "binning_num <- woe.binning(train, 'subscribe', 'age')\n",
    "binning_num"
   ]
  },
  {
   "cell_type": "code",
   "execution_count": 16,
   "metadata": {},
   "outputs": [
    {
     "data": {
      "text/html": [
       "<table>\n",
       "<caption>A data.frame: 6 × 2</caption>\n",
       "<thead>\n",
       "\t<tr><th></th><th scope=col>age</th><th scope=col>age.binned</th></tr>\n",
       "\t<tr><th></th><th scope=col>&lt;int&gt;</th><th scope=col>&lt;fct&gt;</th></tr>\n",
       "</thead>\n",
       "<tbody>\n",
       "\t<tr><th scope=row>1</th><td>29</td><td>(26,36]</td></tr>\n",
       "\t<tr><th scope=row>2</th><td>39</td><td>(36,55]</td></tr>\n",
       "\t<tr><th scope=row>3</th><td>49</td><td>(36,55]</td></tr>\n",
       "\t<tr><th scope=row>4</th><td>32</td><td>(26,36]</td></tr>\n",
       "\t<tr><th scope=row>5</th><td>29</td><td>(26,36]</td></tr>\n",
       "\t<tr><th scope=row>6</th><td>51</td><td>(36,55]</td></tr>\n",
       "</tbody>\n",
       "</table>\n"
      ],
      "text/latex": [
       "A data.frame: 6 × 2\n",
       "\\begin{tabular}{r|ll}\n",
       "  & age & age.binned\\\\\n",
       "  & <int> & <fct>\\\\\n",
       "\\hline\n",
       "\t1 & 29 & (26,36{]}\\\\\n",
       "\t2 & 39 & (36,55{]}\\\\\n",
       "\t3 & 49 & (36,55{]}\\\\\n",
       "\t4 & 32 & (26,36{]}\\\\\n",
       "\t5 & 29 & (26,36{]}\\\\\n",
       "\t6 & 51 & (36,55{]}\\\\\n",
       "\\end{tabular}\n"
      ],
      "text/markdown": [
       "\n",
       "A data.frame: 6 × 2\n",
       "\n",
       "| <!--/--> | age &lt;int&gt; | age.binned &lt;fct&gt; |\n",
       "|---|---|---|\n",
       "| 1 | 29 | (26,36] |\n",
       "| 2 | 39 | (36,55] |\n",
       "| 3 | 49 | (36,55] |\n",
       "| 4 | 32 | (26,36] |\n",
       "| 5 | 29 | (26,36] |\n",
       "| 6 | 51 | (36,55] |\n",
       "\n"
      ],
      "text/plain": [
       "  age age.binned\n",
       "1 29  (26,36]   \n",
       "2 39  (36,55]   \n",
       "3 49  (36,55]   \n",
       "4 32  (26,36]   \n",
       "5 29  (26,36]   \n",
       "6 51  (36,55]   "
      ]
     },
     "metadata": {},
     "output_type": "display_data"
    }
   ],
   "source": [
    "# Apply the binning to the train data\n",
    "train <- woe.binning.deploy(train, binning_num)\n",
    "head(train[, c('age', 'age.binned')])"
   ]
  },
  {
   "cell_type": "code",
   "execution_count": 17,
   "metadata": {},
   "outputs": [],
   "source": [
    "# Apply the binning to the test (holdout) data\n",
    "test_holdout <- woe.binning.deploy(test_holdout, binning_num)"
   ]
  },
  {
   "cell_type": "markdown",
   "metadata": {},
   "source": [
    "#### Convert categorical variables to dummy"
   ]
  },
  {
   "cell_type": "markdown",
   "metadata": {},
   "source": [
    "Get the list of numerical and categorical variables."
   ]
  },
  {
   "cell_type": "code",
   "execution_count": 18,
   "metadata": {},
   "outputs": [],
   "source": [
    "# Get the IV and DV list name\n",
    "# Dependent variable (DV)\n",
    "dv_list <- c('subscribe')\n",
    "# Independent variable (IV)\n",
    "iv_list <- setdiff(colnames(train), dv_list)  # Exclude the target variable\n",
    "iv_list <- setdiff(iv_list, 'client_id')  # Exclude the client_id"
   ]
  },
  {
   "cell_type": "code",
   "execution_count": 19,
   "metadata": {},
   "outputs": [],
   "source": [
    "# Pick out categorical and numerical variable\n",
    "iv_cat_list <- c()  # List to store categorical variable\n",
    "iv_num_list <- c()  # List to store numerical variable\n",
    "for (v in iv_list) {\n",
    "    if (class(train[, v]) == 'factor') {  # Factor == categorical variable\n",
    "        iv_cat_list <- c(iv_cat_list, v)\n",
    "    } else {  # Non-factor == numerical variable\n",
    "        iv_num_list <- c(iv_num_list, v)\n",
    "    }\n",
    "}"
   ]
  },
  {
   "cell_type": "code",
   "execution_count": 20,
   "metadata": {},
   "outputs": [],
   "source": [
    "# Join train and test (holdout) to process data\n",
    "test_holdout$subscribe <- NA  # Create a blank response column on test (holdout data)\n",
    "data <- rbind(train, test_holdout)  # Combine train and test (holdout) data"
   ]
  },
  {
   "cell_type": "markdown",
   "metadata": {},
   "source": [
    "Transform to dummy variables."
   ]
  },
  {
   "cell_type": "code",
   "execution_count": 21,
   "metadata": {},
   "outputs": [],
   "source": [
    "# Loop through all categorical variable\n",
    "# Drop the last column of dummy variable\n",
    "data_dummy_list <- list()\n",
    "for (v in iv_cat_list) {\n",
    "    tmp <- to.dummy(data[, v], v)\n",
    "    data_dummy_list[[length(data_dummy_list) + 1]] <- tmp[, -ncol(tmp), drop=FALSE]\n",
    "}\n",
    "data_dummy <- as.data.frame(do.call(cbind, data_dummy_list))"
   ]
  },
  {
   "cell_type": "code",
   "execution_count": 22,
   "metadata": {},
   "outputs": [],
   "source": [
    "# Drop categorical variables\n",
    "data_processed <- data[, setdiff(colnames(data), iv_cat_list)]\n",
    "\n",
    "# Add dummy vairables\n",
    "data_processed <- cbind(data_processed, data_dummy)"
   ]
  },
  {
   "cell_type": "code",
   "execution_count": 23,
   "metadata": {},
   "outputs": [
    {
     "data": {
      "text/html": [
       "<table>\n",
       "<caption>A data.frame: 6 × 63</caption>\n",
       "<thead>\n",
       "\t<tr><th></th><th scope=col>client_id</th><th scope=col>age</th><th scope=col>campaign</th><th scope=col>pdays</th><th scope=col>previous</th><th scope=col>emp.var.rate</th><th scope=col>cons.price.idx</th><th scope=col>cons.conf.idx</th><th scope=col>euribor3m</th><th scope=col>nr.employed</th><th scope=col>...</th><th scope=col>day_of_week.tue</th><th scope=col>poutcome.failure</th><th scope=col>poutcome.nonexistent</th><th scope=col>job.binned.admin._+_management_+_technician_+_misc._level_neg.</th><th scope=col>job.binned.blue-collar_+_services</th><th scope=col>job.binned.misc._level_pos.</th><th scope=col>age.binned.(-Inf,26]</th><th scope=col>age.binned.(26,36]</th><th scope=col>age.binned.(36,55]</th><th scope=col>age.binned.(55,_Inf]</th></tr>\n",
       "\t<tr><th></th><th scope=col>&lt;int&gt;</th><th scope=col>&lt;int&gt;</th><th scope=col>&lt;int&gt;</th><th scope=col>&lt;int&gt;</th><th scope=col>&lt;int&gt;</th><th scope=col>&lt;dbl&gt;</th><th scope=col>&lt;dbl&gt;</th><th scope=col>&lt;dbl&gt;</th><th scope=col>&lt;dbl&gt;</th><th scope=col>&lt;dbl&gt;</th><th scope=col>...</th><th scope=col>&lt;dbl&gt;</th><th scope=col>&lt;dbl&gt;</th><th scope=col>&lt;dbl&gt;</th><th scope=col>&lt;dbl&gt;</th><th scope=col>&lt;dbl&gt;</th><th scope=col>&lt;dbl&gt;</th><th scope=col>&lt;dbl&gt;</th><th scope=col>&lt;dbl&gt;</th><th scope=col>&lt;dbl&gt;</th><th scope=col>&lt;dbl&gt;</th></tr>\n",
       "</thead>\n",
       "<tbody>\n",
       "\t<tr><th scope=row>1</th><td>2</td><td>29</td><td>3</td><td>999</td><td>0</td><td> 1.1</td><td>93.994</td><td>-36.4</td><td>4.858</td><td>5191.0</td><td>...</td><td>0</td><td>0</td><td>1</td><td>1</td><td>0</td><td>0</td><td>0</td><td>1</td><td>0</td><td>0</td></tr>\n",
       "\t<tr><th scope=row>2</th><td>3</td><td>39</td><td>6</td><td>999</td><td>0</td><td> 1.4</td><td>94.465</td><td>-41.8</td><td>4.959</td><td>5228.1</td><td>...</td><td>0</td><td>0</td><td>1</td><td>0</td><td>0</td><td>1</td><td>0</td><td>0</td><td>1</td><td>0</td></tr>\n",
       "\t<tr><th scope=row>3</th><td>4</td><td>49</td><td>2</td><td>999</td><td>0</td><td>-0.1</td><td>93.200</td><td>-42.0</td><td>4.153</td><td>5195.8</td><td>...</td><td>1</td><td>0</td><td>1</td><td>0</td><td>1</td><td>0</td><td>0</td><td>0</td><td>1</td><td>0</td></tr>\n",
       "\t<tr><th scope=row>4</th><td>5</td><td>32</td><td>3</td><td>999</td><td>1</td><td>-1.8</td><td>92.893</td><td>-46.2</td><td>1.299</td><td>5099.1</td><td>...</td><td>0</td><td>1</td><td>0</td><td>0</td><td>0</td><td>1</td><td>0</td><td>1</td><td>0</td><td>0</td></tr>\n",
       "\t<tr><th scope=row>5</th><td>6</td><td>29</td><td>2</td><td>999</td><td>0</td><td> 1.4</td><td>93.918</td><td>-42.7</td><td>4.963</td><td>5228.1</td><td>...</td><td>0</td><td>0</td><td>1</td><td>1</td><td>0</td><td>0</td><td>0</td><td>1</td><td>0</td><td>0</td></tr>\n",
       "\t<tr><th scope=row>6</th><td>7</td><td>51</td><td>1</td><td>999</td><td>0</td><td> 1.4</td><td>94.465</td><td>-41.8</td><td>4.864</td><td>5228.1</td><td>...</td><td>1</td><td>0</td><td>1</td><td>0</td><td>0</td><td>1</td><td>0</td><td>0</td><td>1</td><td>0</td></tr>\n",
       "</tbody>\n",
       "</table>\n"
      ],
      "text/latex": [
       "A data.frame: 6 × 63\n",
       "\\begin{tabular}{r|lllllllllllllllllllll}\n",
       "  & client\\_id & age & campaign & pdays & previous & emp.var.rate & cons.price.idx & cons.conf.idx & euribor3m & nr.employed & ... & day\\_of\\_week.tue & poutcome.failure & poutcome.nonexistent & job.binned.admin.\\_+\\_management\\_+\\_technician\\_+\\_misc.\\_level\\_neg. & job.binned.blue-collar\\_+\\_services & job.binned.misc.\\_level\\_pos. & age.binned.(-Inf,26{]} & age.binned.(26,36{]} & age.binned.(36,55{]} & age.binned.(55,\\_Inf{]}\\\\\n",
       "  & <int> & <int> & <int> & <int> & <int> & <dbl> & <dbl> & <dbl> & <dbl> & <dbl> & ... & <dbl> & <dbl> & <dbl> & <dbl> & <dbl> & <dbl> & <dbl> & <dbl> & <dbl> & <dbl>\\\\\n",
       "\\hline\n",
       "\t1 & 2 & 29 & 3 & 999 & 0 &  1.1 & 93.994 & -36.4 & 4.858 & 5191.0 & ... & 0 & 0 & 1 & 1 & 0 & 0 & 0 & 1 & 0 & 0\\\\\n",
       "\t2 & 3 & 39 & 6 & 999 & 0 &  1.4 & 94.465 & -41.8 & 4.959 & 5228.1 & ... & 0 & 0 & 1 & 0 & 0 & 1 & 0 & 0 & 1 & 0\\\\\n",
       "\t3 & 4 & 49 & 2 & 999 & 0 & -0.1 & 93.200 & -42.0 & 4.153 & 5195.8 & ... & 1 & 0 & 1 & 0 & 1 & 0 & 0 & 0 & 1 & 0\\\\\n",
       "\t4 & 5 & 32 & 3 & 999 & 1 & -1.8 & 92.893 & -46.2 & 1.299 & 5099.1 & ... & 0 & 1 & 0 & 0 & 0 & 1 & 0 & 1 & 0 & 0\\\\\n",
       "\t5 & 6 & 29 & 2 & 999 & 0 &  1.4 & 93.918 & -42.7 & 4.963 & 5228.1 & ... & 0 & 0 & 1 & 1 & 0 & 0 & 0 & 1 & 0 & 0\\\\\n",
       "\t6 & 7 & 51 & 1 & 999 & 0 &  1.4 & 94.465 & -41.8 & 4.864 & 5228.1 & ... & 1 & 0 & 1 & 0 & 0 & 1 & 0 & 0 & 1 & 0\\\\\n",
       "\\end{tabular}\n"
      ],
      "text/markdown": [
       "\n",
       "A data.frame: 6 × 63\n",
       "\n",
       "| <!--/--> | client_id &lt;int&gt; | age &lt;int&gt; | campaign &lt;int&gt; | pdays &lt;int&gt; | previous &lt;int&gt; | emp.var.rate &lt;dbl&gt; | cons.price.idx &lt;dbl&gt; | cons.conf.idx &lt;dbl&gt; | euribor3m &lt;dbl&gt; | nr.employed &lt;dbl&gt; | ... ... | day_of_week.tue &lt;dbl&gt; | poutcome.failure &lt;dbl&gt; | poutcome.nonexistent &lt;dbl&gt; | job.binned.admin._+_management_+_technician_+_misc._level_neg. &lt;dbl&gt; | job.binned.blue-collar_+_services &lt;dbl&gt; | job.binned.misc._level_pos. &lt;dbl&gt; | age.binned.(-Inf,26] &lt;dbl&gt; | age.binned.(26,36] &lt;dbl&gt; | age.binned.(36,55] &lt;dbl&gt; | age.binned.(55,_Inf] &lt;dbl&gt; |\n",
       "|---|---|---|---|---|---|---|---|---|---|---|---|---|---|---|---|---|---|---|---|---|---|\n",
       "| 1 | 2 | 29 | 3 | 999 | 0 |  1.1 | 93.994 | -36.4 | 4.858 | 5191.0 | ... | 0 | 0 | 1 | 1 | 0 | 0 | 0 | 1 | 0 | 0 |\n",
       "| 2 | 3 | 39 | 6 | 999 | 0 |  1.4 | 94.465 | -41.8 | 4.959 | 5228.1 | ... | 0 | 0 | 1 | 0 | 0 | 1 | 0 | 0 | 1 | 0 |\n",
       "| 3 | 4 | 49 | 2 | 999 | 0 | -0.1 | 93.200 | -42.0 | 4.153 | 5195.8 | ... | 1 | 0 | 1 | 0 | 1 | 0 | 0 | 0 | 1 | 0 |\n",
       "| 4 | 5 | 32 | 3 | 999 | 1 | -1.8 | 92.893 | -46.2 | 1.299 | 5099.1 | ... | 0 | 1 | 0 | 0 | 0 | 1 | 0 | 1 | 0 | 0 |\n",
       "| 5 | 6 | 29 | 2 | 999 | 0 |  1.4 | 93.918 | -42.7 | 4.963 | 5228.1 | ... | 0 | 0 | 1 | 1 | 0 | 0 | 0 | 1 | 0 | 0 |\n",
       "| 6 | 7 | 51 | 1 | 999 | 0 |  1.4 | 94.465 | -41.8 | 4.864 | 5228.1 | ... | 1 | 0 | 1 | 0 | 0 | 1 | 0 | 0 | 1 | 0 |\n",
       "\n"
      ],
      "text/plain": [
       "  client_id age campaign pdays previous emp.var.rate cons.price.idx\n",
       "1 2         29  3        999   0         1.1         93.994        \n",
       "2 3         39  6        999   0         1.4         94.465        \n",
       "3 4         49  2        999   0        -0.1         93.200        \n",
       "4 5         32  3        999   1        -1.8         92.893        \n",
       "5 6         29  2        999   0         1.4         93.918        \n",
       "6 7         51  1        999   0         1.4         94.465        \n",
       "  cons.conf.idx euribor3m nr.employed ... day_of_week.tue poutcome.failure\n",
       "1 -36.4         4.858     5191.0      ... 0               0               \n",
       "2 -41.8         4.959     5228.1      ... 0               0               \n",
       "3 -42.0         4.153     5195.8      ... 1               0               \n",
       "4 -46.2         1.299     5099.1      ... 0               1               \n",
       "5 -42.7         4.963     5228.1      ... 0               0               \n",
       "6 -41.8         4.864     5228.1      ... 1               0               \n",
       "  poutcome.nonexistent\n",
       "1 1                   \n",
       "2 1                   \n",
       "3 1                   \n",
       "4 0                   \n",
       "5 1                   \n",
       "6 1                   \n",
       "  job.binned.admin._+_management_+_technician_+_misc._level_neg.\n",
       "1 1                                                             \n",
       "2 0                                                             \n",
       "3 0                                                             \n",
       "4 0                                                             \n",
       "5 1                                                             \n",
       "6 0                                                             \n",
       "  job.binned.blue-collar_+_services job.binned.misc._level_pos.\n",
       "1 0                                 0                          \n",
       "2 0                                 1                          \n",
       "3 1                                 0                          \n",
       "4 0                                 1                          \n",
       "5 0                                 0                          \n",
       "6 0                                 1                          \n",
       "  age.binned.(-Inf,26] age.binned.(26,36] age.binned.(36,55]\n",
       "1 0                    1                  0                 \n",
       "2 0                    0                  1                 \n",
       "3 0                    0                  1                 \n",
       "4 0                    1                  0                 \n",
       "5 0                    1                  0                 \n",
       "6 0                    0                  1                 \n",
       "  age.binned.(55,_Inf]\n",
       "1 0                   \n",
       "2 0                   \n",
       "3 0                   \n",
       "4 0                   \n",
       "5 0                   \n",
       "6 0                   "
      ]
     },
     "metadata": {},
     "output_type": "display_data"
    }
   ],
   "source": [
    "# Print the processed data to check\n",
    "head(data_processed)"
   ]
  },
  {
   "cell_type": "code",
   "execution_count": 56,
   "metadata": {},
   "outputs": [],
   "source": [
    "write.csv(data_processed, 'C:/Users/razow/Desktop/IESEG Subjects/11 Statistical and machine learning approaches/Individual Assignment/basetable.csv', row.names=FALSE)"
   ]
  },
  {
   "cell_type": "code",
   "execution_count": 24,
   "metadata": {},
   "outputs": [],
   "source": [
    "# Split train and test (holdout) after dummitizing\n",
    "train_processed <- data_processed[!is.na(data_processed$subscribe), ]\n",
    "test_holdout_processed <- data_processed[is.na(data_processed$subscribe), -ncol(data_processed)]"
   ]
  },
  {
   "cell_type": "markdown",
   "metadata": {},
   "source": [
    "#### Variable transformation"
   ]
  },
  {
   "cell_type": "markdown",
   "metadata": {},
   "source": [
    "Log transformation numerical variable."
   ]
  },
  {
   "cell_type": "code",
   "execution_count": 25,
   "metadata": {},
   "outputs": [],
   "source": [
    "# Transform the variable age on train and test (holdout)\n",
    "# Train\n",
    "train_processed[, 'age_log'] <- log(train_processed$age)\n",
    "# Test (holdout)\n",
    "test_holdout_processed[, 'age_log'] <- log(test_holdout_processed$age)"
   ]
  },
  {
   "cell_type": "markdown",
   "metadata": {},
   "source": [
    "Standardize numerical variable."
   ]
  },
  {
   "cell_type": "code",
   "execution_count": 26,
   "metadata": {},
   "outputs": [],
   "source": [
    "# Standardize the variable age on train and test (holdout)\n",
    "# Train\n",
    "train_processed[, 'age_scaled'] <- scale(train_processed$age, center =TRUE, scale=TRUE)  # sd = 1, mean = 0\n",
    "# Test (holdout)\n",
    "test_holdout_processed[, 'age_scaled'] <- scale(test_holdout_processed$age, center =TRUE, scale=TRUE)  # sd = 1, mean = 0"
   ]
  },
  {
   "cell_type": "markdown",
   "metadata": {},
   "source": [
    "### Feature selection: Fisher Score"
   ]
  },
  {
   "cell_type": "code",
   "execution_count": 27,
   "metadata": {},
   "outputs": [],
   "source": [
    "FisherScore <- function(basetable, depvar, IV_list) {\n",
    "  \"\n",
    "  This function calculate the Fisher score of a variable.\n",
    "  \n",
    "  Ref:\n",
    "  ---\n",
    "  Verbeke, W., Dejaeger, K., Martens, D., Hur, J., & Baesens, B. (2012). New insights into churn prediction in the telecommunication sector: A profit driven data mining approach. European Journal of Operational Research, 218(1), 211-229.\n",
    "  \"\n",
    "  \n",
    "  # Get the unique values of dependent variable\n",
    "  DV <- unique(basetable[, depvar])\n",
    "  \n",
    "  IV_FisherScore <- c()\n",
    "  \n",
    "  for (v in IV_list) {\n",
    "    fs <- abs((mean(basetable[which(basetable[, depvar]==DV[1]), v]) - mean(basetable[which(basetable[, depvar]==DV[2]), v]))) /\n",
    "      sqrt((var(basetable[which(basetable[, depvar]==DV[1]), v]) + var(basetable[which(basetable[, depvar]==DV[2]), v])))\n",
    "    IV_FisherScore <- c(IV_FisherScore, fs)\n",
    "  }\n",
    "  \n",
    "  return(data.frame(IV=IV_list, fisher_score=IV_FisherScore))\n",
    "}\n",
    "\n",
    "varSelectionFisher <- function(basetable, depvar, IV_list, num_select=20) {\n",
    "  \"\n",
    "  This function will calculate the Fisher score for all IVs and select the best\n",
    "  top IVs.\n",
    "\n",
    "  Assumption: all variables of input dataset are converted into numeric type.\n",
    "  \"\n",
    "  \n",
    "  fs <- FisherScore(basetable, depvar, IV_list)  # Calculate Fisher Score for all IVs\n",
    "  num_select <- min(num_select, ncol(basetable))  # Top N IVs to be selected\n",
    "  return(as.vector(fs[order(fs$fisher_score, decreasing=T), ][1:num_select, 'IV']))\n",
    "}"
   ]
  },
  {
   "cell_type": "code",
   "execution_count": 28,
   "metadata": {},
   "outputs": [
    {
     "data": {
      "text/html": [
       "<table>\n",
       "<caption>A data.frame: 6 × 2</caption>\n",
       "<thead>\n",
       "\t<tr><th></th><th scope=col>IV</th><th scope=col>fisher_score</th></tr>\n",
       "\t<tr><th></th><th scope=col>&lt;fct&gt;</th><th scope=col>&lt;dbl&gt;</th></tr>\n",
       "</thead>\n",
       "<tbody>\n",
       "\t<tr><th scope=row>1</th><td>age           </td><td>0.08399095</td></tr>\n",
       "\t<tr><th scope=row>2</th><td>campaign      </td><td>0.14422181</td></tr>\n",
       "\t<tr><th scope=row>3</th><td>pdays         </td><td>0.45039557</td></tr>\n",
       "\t<tr><th scope=row>4</th><td>previous      </td><td>0.38126476</td></tr>\n",
       "\t<tr><th scope=row>5</th><td>emp.var.rate  </td><td>0.67808361</td></tr>\n",
       "\t<tr><th scope=row>6</th><td>cons.price.idx</td><td>0.30255045</td></tr>\n",
       "</tbody>\n",
       "</table>\n"
      ],
      "text/latex": [
       "A data.frame: 6 × 2\n",
       "\\begin{tabular}{r|ll}\n",
       "  & IV & fisher\\_score\\\\\n",
       "  & <fct> & <dbl>\\\\\n",
       "\\hline\n",
       "\t1 & age            & 0.08399095\\\\\n",
       "\t2 & campaign       & 0.14422181\\\\\n",
       "\t3 & pdays          & 0.45039557\\\\\n",
       "\t4 & previous       & 0.38126476\\\\\n",
       "\t5 & emp.var.rate   & 0.67808361\\\\\n",
       "\t6 & cons.price.idx & 0.30255045\\\\\n",
       "\\end{tabular}\n"
      ],
      "text/markdown": [
       "\n",
       "A data.frame: 6 × 2\n",
       "\n",
       "| <!--/--> | IV &lt;fct&gt; | fisher_score &lt;dbl&gt; |\n",
       "|---|---|---|\n",
       "| 1 | age            | 0.08399095 |\n",
       "| 2 | campaign       | 0.14422181 |\n",
       "| 3 | pdays          | 0.45039557 |\n",
       "| 4 | previous       | 0.38126476 |\n",
       "| 5 | emp.var.rate   | 0.67808361 |\n",
       "| 6 | cons.price.idx | 0.30255045 |\n",
       "\n"
      ],
      "text/plain": [
       "  IV             fisher_score\n",
       "1 age            0.08399095  \n",
       "2 campaign       0.14422181  \n",
       "3 pdays          0.45039557  \n",
       "4 previous       0.38126476  \n",
       "5 emp.var.rate   0.67808361  \n",
       "6 cons.price.idx 0.30255045  "
      ]
     },
     "metadata": {},
     "output_type": "display_data"
    }
   ],
   "source": [
    "# Calculate Fisher Score for all variable\n",
    "# Get the IV and DV list\n",
    "dv_list <- c('subscribe')  # DV list\n",
    "iv_list <- setdiff(names(train_processed), dv_list)  # IV list excluded DV\n",
    "iv_list <- setdiff(iv_list, 'client_id')  # Excluded the client_id\n",
    "fs <- FisherScore(train_processed, dv_list, iv_list)\n",
    "head(fs)"
   ]
  },
  {
   "cell_type": "code",
   "execution_count": 29,
   "metadata": {},
   "outputs": [
    {
     "data": {
      "text/html": [
       "<style>\n",
       ".list-inline {list-style: none; margin:0; padding: 0}\n",
       ".list-inline>li {display: inline-block}\n",
       ".list-inline>li:not(:last-child)::after {content: \"\\00b7\"; padding: 0 .5ex}\n",
       "</style>\n",
       "<ol class=list-inline><li>'nr.employed'</li><li>'euribor3m'</li><li>'emp.var.rate'</li><li>'pdays'</li><li>'pdays_999'</li><li>'contact.cellular'</li><li>'previous'</li><li>'poutcome.nonexistent'</li><li>'cons.price.idx'</li><li>'month.may'</li><li>'month.oct'</li><li>'job.binned.misc._level_pos.'</li><li>'default.no'</li><li>'age.binned.(36,55]'</li><li>'age.binned.(55,_Inf]'</li><li>'month.mar'</li><li>'job.binned.blue-collar_+_services'</li><li>'job.retired'</li><li>'job.student'</li><li>'job.blue-collar'</li></ol>\n"
      ],
      "text/latex": [
       "\\begin{enumerate*}\n",
       "\\item 'nr.employed'\n",
       "\\item 'euribor3m'\n",
       "\\item 'emp.var.rate'\n",
       "\\item 'pdays'\n",
       "\\item 'pdays\\_999'\n",
       "\\item 'contact.cellular'\n",
       "\\item 'previous'\n",
       "\\item 'poutcome.nonexistent'\n",
       "\\item 'cons.price.idx'\n",
       "\\item 'month.may'\n",
       "\\item 'month.oct'\n",
       "\\item 'job.binned.misc.\\_level\\_pos.'\n",
       "\\item 'default.no'\n",
       "\\item 'age.binned.(36,55{]}'\n",
       "\\item 'age.binned.(55,\\_Inf{]}'\n",
       "\\item 'month.mar'\n",
       "\\item 'job.binned.blue-collar\\_+\\_services'\n",
       "\\item 'job.retired'\n",
       "\\item 'job.student'\n",
       "\\item 'job.blue-collar'\n",
       "\\end{enumerate*}\n"
      ],
      "text/markdown": [
       "1. 'nr.employed'\n",
       "2. 'euribor3m'\n",
       "3. 'emp.var.rate'\n",
       "4. 'pdays'\n",
       "5. 'pdays_999'\n",
       "6. 'contact.cellular'\n",
       "7. 'previous'\n",
       "8. 'poutcome.nonexistent'\n",
       "9. 'cons.price.idx'\n",
       "10. 'month.may'\n",
       "11. 'month.oct'\n",
       "12. 'job.binned.misc._level_pos.'\n",
       "13. 'default.no'\n",
       "14. 'age.binned.(36,55]'\n",
       "15. 'age.binned.(55,_Inf]'\n",
       "16. 'month.mar'\n",
       "17. 'job.binned.blue-collar_+_services'\n",
       "18. 'job.retired'\n",
       "19. 'job.student'\n",
       "20. 'job.blue-collar'\n",
       "\n",
       "\n"
      ],
      "text/plain": [
       " [1] \"nr.employed\"                       \"euribor3m\"                        \n",
       " [3] \"emp.var.rate\"                      \"pdays\"                            \n",
       " [5] \"pdays_999\"                         \"contact.cellular\"                 \n",
       " [7] \"previous\"                          \"poutcome.nonexistent\"             \n",
       " [9] \"cons.price.idx\"                    \"month.may\"                        \n",
       "[11] \"month.oct\"                         \"job.binned.misc._level_pos.\"      \n",
       "[13] \"default.no\"                        \"age.binned.(36,55]\"               \n",
       "[15] \"age.binned.(55,_Inf]\"              \"month.mar\"                        \n",
       "[17] \"job.binned.blue-collar_+_services\" \"job.retired\"                      \n",
       "[19] \"job.student\"                       \"job.blue-collar\"                  "
      ]
     },
     "metadata": {},
     "output_type": "display_data"
    }
   ],
   "source": [
    "# Select top 20 variables according to the Fisher Score\n",
    "best_fs_var <- varSelectionFisher(train_processed, dv_list, iv_list, num_select=20)\n",
    "best_fs_var"
   ]
  },
  {
   "cell_type": "code",
   "execution_count": 30,
   "metadata": {},
   "outputs": [
    {
     "data": {
      "text/html": [
       "<style>\n",
       ".list-inline {list-style: none; margin:0; padding: 0}\n",
       ".list-inline>li {display: inline-block}\n",
       ".list-inline>li:not(:last-child)::after {content: \"\\00b7\"; padding: 0 .5ex}\n",
       "</style>\n",
       "<ol class=list-inline><li>'client_id'</li><li>'FALSE'</li><li>'FALSE'</li><li>'FALSE'</li><li>'TRUE'</li><li>'TRUE'</li><li>'TRUE'</li><li>'TRUE'</li><li>'FALSE'</li><li>'TRUE'</li><li>'TRUE'</li><li>'FALSE'</li><li>'TRUE'</li><li>'FALSE'</li><li>'FALSE'</li><li>'FALSE'</li><li>'TRUE'</li><li>'FALSE'</li><li>'FALSE'</li><li>'FALSE'</li><li>'TRUE'</li><li>'FALSE'</li><li>'FALSE'</li><li>'TRUE'</li><li>'FALSE'</li><li>'FALSE'</li><li>'FALSE'</li><li>'FALSE'</li><li>'FALSE'</li><li>'FALSE'</li><li>'FALSE'</li><li>'FALSE'</li><li>'FALSE'</li><li>'FALSE'</li><li>'FALSE'</li><li>'FALSE'</li><li>'TRUE'</li><li>'FALSE'</li><li>'FALSE'</li><li>'FALSE'</li><li>'FALSE'</li><li>'TRUE'</li><li>'FALSE'</li><li>'FALSE'</li><li>'FALSE'</li><li>'FALSE'</li><li>'FALSE'</li><li>'TRUE'</li><li>'TRUE'</li><li>'FALSE'</li><li>'TRUE'</li><li>'FALSE'</li><li>'FALSE'</li><li>'FALSE'</li><li>'FALSE'</li><li>'FALSE'</li><li>'TRUE'</li><li>'FALSE'</li><li>'TRUE'</li><li>'TRUE'</li><li>'FALSE'</li><li>'FALSE'</li><li>'TRUE'</li><li>'TRUE'</li><li>'FALSE'</li><li>'FALSE'</li><li>'subscribe'</li></ol>\n"
      ],
      "text/latex": [
       "\\begin{enumerate*}\n",
       "\\item 'client\\_id'\n",
       "\\item 'FALSE'\n",
       "\\item 'FALSE'\n",
       "\\item 'FALSE'\n",
       "\\item 'TRUE'\n",
       "\\item 'TRUE'\n",
       "\\item 'TRUE'\n",
       "\\item 'TRUE'\n",
       "\\item 'FALSE'\n",
       "\\item 'TRUE'\n",
       "\\item 'TRUE'\n",
       "\\item 'FALSE'\n",
       "\\item 'TRUE'\n",
       "\\item 'FALSE'\n",
       "\\item 'FALSE'\n",
       "\\item 'FALSE'\n",
       "\\item 'TRUE'\n",
       "\\item 'FALSE'\n",
       "\\item 'FALSE'\n",
       "\\item 'FALSE'\n",
       "\\item 'TRUE'\n",
       "\\item 'FALSE'\n",
       "\\item 'FALSE'\n",
       "\\item 'TRUE'\n",
       "\\item 'FALSE'\n",
       "\\item 'FALSE'\n",
       "\\item 'FALSE'\n",
       "\\item 'FALSE'\n",
       "\\item 'FALSE'\n",
       "\\item 'FALSE'\n",
       "\\item 'FALSE'\n",
       "\\item 'FALSE'\n",
       "\\item 'FALSE'\n",
       "\\item 'FALSE'\n",
       "\\item 'FALSE'\n",
       "\\item 'FALSE'\n",
       "\\item 'TRUE'\n",
       "\\item 'FALSE'\n",
       "\\item 'FALSE'\n",
       "\\item 'FALSE'\n",
       "\\item 'FALSE'\n",
       "\\item 'TRUE'\n",
       "\\item 'FALSE'\n",
       "\\item 'FALSE'\n",
       "\\item 'FALSE'\n",
       "\\item 'FALSE'\n",
       "\\item 'FALSE'\n",
       "\\item 'TRUE'\n",
       "\\item 'TRUE'\n",
       "\\item 'FALSE'\n",
       "\\item 'TRUE'\n",
       "\\item 'FALSE'\n",
       "\\item 'FALSE'\n",
       "\\item 'FALSE'\n",
       "\\item 'FALSE'\n",
       "\\item 'FALSE'\n",
       "\\item 'TRUE'\n",
       "\\item 'FALSE'\n",
       "\\item 'TRUE'\n",
       "\\item 'TRUE'\n",
       "\\item 'FALSE'\n",
       "\\item 'FALSE'\n",
       "\\item 'TRUE'\n",
       "\\item 'TRUE'\n",
       "\\item 'FALSE'\n",
       "\\item 'FALSE'\n",
       "\\item 'subscribe'\n",
       "\\end{enumerate*}\n"
      ],
      "text/markdown": [
       "1. 'client_id'\n",
       "2. 'FALSE'\n",
       "3. 'FALSE'\n",
       "4. 'FALSE'\n",
       "5. 'TRUE'\n",
       "6. 'TRUE'\n",
       "7. 'TRUE'\n",
       "8. 'TRUE'\n",
       "9. 'FALSE'\n",
       "10. 'TRUE'\n",
       "11. 'TRUE'\n",
       "12. 'FALSE'\n",
       "13. 'TRUE'\n",
       "14. 'FALSE'\n",
       "15. 'FALSE'\n",
       "16. 'FALSE'\n",
       "17. 'TRUE'\n",
       "18. 'FALSE'\n",
       "19. 'FALSE'\n",
       "20. 'FALSE'\n",
       "21. 'TRUE'\n",
       "22. 'FALSE'\n",
       "23. 'FALSE'\n",
       "24. 'TRUE'\n",
       "25. 'FALSE'\n",
       "26. 'FALSE'\n",
       "27. 'FALSE'\n",
       "28. 'FALSE'\n",
       "29. 'FALSE'\n",
       "30. 'FALSE'\n",
       "31. 'FALSE'\n",
       "32. 'FALSE'\n",
       "33. 'FALSE'\n",
       "34. 'FALSE'\n",
       "35. 'FALSE'\n",
       "36. 'FALSE'\n",
       "37. 'TRUE'\n",
       "38. 'FALSE'\n",
       "39. 'FALSE'\n",
       "40. 'FALSE'\n",
       "41. 'FALSE'\n",
       "42. 'TRUE'\n",
       "43. 'FALSE'\n",
       "44. 'FALSE'\n",
       "45. 'FALSE'\n",
       "46. 'FALSE'\n",
       "47. 'FALSE'\n",
       "48. 'TRUE'\n",
       "49. 'TRUE'\n",
       "50. 'FALSE'\n",
       "51. 'TRUE'\n",
       "52. 'FALSE'\n",
       "53. 'FALSE'\n",
       "54. 'FALSE'\n",
       "55. 'FALSE'\n",
       "56. 'FALSE'\n",
       "57. 'TRUE'\n",
       "58. 'FALSE'\n",
       "59. 'TRUE'\n",
       "60. 'TRUE'\n",
       "61. 'FALSE'\n",
       "62. 'FALSE'\n",
       "63. 'TRUE'\n",
       "64. 'TRUE'\n",
       "65. 'FALSE'\n",
       "66. 'FALSE'\n",
       "67. 'subscribe'\n",
       "\n",
       "\n"
      ],
      "text/plain": [
       " [1] \"client_id\" \"FALSE\"     \"FALSE\"     \"FALSE\"     \"TRUE\"      \"TRUE\"     \n",
       " [7] \"TRUE\"      \"TRUE\"      \"FALSE\"     \"TRUE\"      \"TRUE\"      \"FALSE\"    \n",
       "[13] \"TRUE\"      \"FALSE\"     \"FALSE\"     \"FALSE\"     \"TRUE\"      \"FALSE\"    \n",
       "[19] \"FALSE\"     \"FALSE\"     \"TRUE\"      \"FALSE\"     \"FALSE\"     \"TRUE\"     \n",
       "[25] \"FALSE\"     \"FALSE\"     \"FALSE\"     \"FALSE\"     \"FALSE\"     \"FALSE\"    \n",
       "[31] \"FALSE\"     \"FALSE\"     \"FALSE\"     \"FALSE\"     \"FALSE\"     \"FALSE\"    \n",
       "[37] \"TRUE\"      \"FALSE\"     \"FALSE\"     \"FALSE\"     \"FALSE\"     \"TRUE\"     \n",
       "[43] \"FALSE\"     \"FALSE\"     \"FALSE\"     \"FALSE\"     \"FALSE\"     \"TRUE\"     \n",
       "[49] \"TRUE\"      \"FALSE\"     \"TRUE\"      \"FALSE\"     \"FALSE\"     \"FALSE\"    \n",
       "[55] \"FALSE\"     \"FALSE\"     \"TRUE\"      \"FALSE\"     \"TRUE\"      \"TRUE\"     \n",
       "[61] \"FALSE\"     \"FALSE\"     \"TRUE\"      \"TRUE\"      \"FALSE\"     \"FALSE\"    \n",
       "[67] \"subscribe\""
      ]
     },
     "metadata": {},
     "output_type": "display_data"
    }
   ],
   "source": [
    "c('client_id', names(train_processed) %in% best_fs_var, 'subscribe')"
   ]
  },
  {
   "cell_type": "code",
   "execution_count": 31,
   "metadata": {},
   "outputs": [],
   "source": [
    "# Apply variable selection on train and test (holdout)\n",
    "# Train\n",
    "train_var_select <- names(train_processed)[names(train_processed) %in% best_fs_var]\n",
    "train_processed <- train_processed[, c('client_id', train_var_select, 'subscribe')]\n",
    "\n",
    "# Test (holdout)\n",
    "test_hd_var_select <- names(test_holdout_processed)[names(test_holdout_processed) %in% best_fs_var]\n",
    "test_holdout_processed <- test_holdout_processed[, c('client_id', test_hd_var_select)]"
   ]
  },
  {
   "cell_type": "markdown",
   "metadata": {},
   "source": [
    "### Finalize data processing"
   ]
  },
  {
   "cell_type": "code",
   "execution_count": 32,
   "metadata": {},
   "outputs": [
    {
     "data": {
      "text/html": [
       "<style>\n",
       ".list-inline {list-style: none; margin:0; padding: 0}\n",
       ".list-inline>li {display: inline-block}\n",
       ".list-inline>li:not(:last-child)::after {content: \"\\00b7\"; padding: 0 .5ex}\n",
       "</style>\n",
       "<ol class=list-inline><li>7000</li><li>22</li></ol>\n"
      ],
      "text/latex": [
       "\\begin{enumerate*}\n",
       "\\item 7000\n",
       "\\item 22\n",
       "\\end{enumerate*}\n"
      ],
      "text/markdown": [
       "1. 7000\n",
       "2. 22\n",
       "\n",
       "\n"
      ],
      "text/plain": [
       "[1] 7000   22"
      ]
     },
     "metadata": {},
     "output_type": "display_data"
    },
    {
     "data": {
      "text/html": [
       "<style>\n",
       ".list-inline {list-style: none; margin:0; padding: 0}\n",
       ".list-inline>li {display: inline-block}\n",
       ".list-inline>li:not(:last-child)::after {content: \"\\00b7\"; padding: 0 .5ex}\n",
       "</style>\n",
       "<ol class=list-inline><li>3000</li><li>20</li></ol>\n"
      ],
      "text/latex": [
       "\\begin{enumerate*}\n",
       "\\item 3000\n",
       "\\item 20\n",
       "\\end{enumerate*}\n"
      ],
      "text/markdown": [
       "1. 3000\n",
       "2. 20\n",
       "\n",
       "\n"
      ],
      "text/plain": [
       "[1] 3000   20"
      ]
     },
     "metadata": {},
     "output_type": "display_data"
    }
   ],
   "source": [
    "# Check if train and test (holdout) have same variables\n",
    "dim(train_processed)\n",
    "dim(test_holdout_processed)"
   ]
  },
  {
   "cell_type": "code",
   "execution_count": 33,
   "metadata": {},
   "outputs": [
    {
     "data": {
      "text/html": [
       "'age.binned.(55,_Inf]'"
      ],
      "text/latex": [
       "'age.binned.(55,\\_Inf{]}'"
      ],
      "text/markdown": [
       "'age.binned.(55,_Inf]'"
      ],
      "text/plain": [
       "[1] \"age.binned.(55,_Inf]\""
      ]
     },
     "metadata": {},
     "output_type": "display_data"
    }
   ],
   "source": [
    "# Add some columns in train but not in test (holdout)\n",
    "missing_test_var <- setdiff(names(train_processed), names(test_holdout_processed))\n",
    "missing_test_var <- setdiff(missing_test_var, 'subscribe')  # Exclude the target variable\n",
    "missing_test_var\n",
    "\n",
    "# Add this variable to test (holdout) data, value = 0\n",
    "test_holdout_processed[, missing_test_var] <- 0"
   ]
  },
  {
   "cell_type": "code",
   "execution_count": 34,
   "metadata": {},
   "outputs": [],
   "source": [
    "# Rename the data columns\n",
    "# Train\n",
    "for (v in colnames(train_processed)) {\n",
    "    fix_name <- str_replace_all(v, \"[^[:alnum:] ]\", \"_\")\n",
    "    colnames(train_processed)[colnames(train_processed) == v] <- fix_name\n",
    "}\n",
    "# Test (holdout)\n",
    "for (v in colnames(test_holdout_processed)) {\n",
    "    fix_name <- str_replace_all(v, \"[^[:alnum:] ]\", \"_\")\n",
    "    colnames(test_holdout_processed)[colnames(test_holdout_processed) == v] <- fix_name\n",
    "}"
   ]
  },
  {
   "cell_type": "code",
   "execution_count": 35,
   "metadata": {},
   "outputs": [
    {
     "data": {
      "text/html": [
       "<table>\n",
       "<caption>A data.frame: 6 × 22</caption>\n",
       "<thead>\n",
       "\t<tr><th></th><th scope=col>client_id</th><th scope=col>pdays</th><th scope=col>previous</th><th scope=col>emp_var_rate</th><th scope=col>cons_price_idx</th><th scope=col>euribor3m</th><th scope=col>nr_employed</th><th scope=col>pdays_999</th><th scope=col>job_blue_collar</th><th scope=col>job_retired</th><th scope=col>...</th><th scope=col>contact_cellular</th><th scope=col>month_mar</th><th scope=col>month_may</th><th scope=col>month_oct</th><th scope=col>poutcome_nonexistent</th><th scope=col>job_binned_blue_collar___services</th><th scope=col>job_binned_misc__level_pos_</th><th scope=col>age_binned__36_55_</th><th scope=col>age_binned__55__Inf_</th><th scope=col>subscribe</th></tr>\n",
       "\t<tr><th></th><th scope=col>&lt;int&gt;</th><th scope=col>&lt;int&gt;</th><th scope=col>&lt;int&gt;</th><th scope=col>&lt;dbl&gt;</th><th scope=col>&lt;dbl&gt;</th><th scope=col>&lt;dbl&gt;</th><th scope=col>&lt;dbl&gt;</th><th scope=col>&lt;int&gt;</th><th scope=col>&lt;dbl&gt;</th><th scope=col>&lt;dbl&gt;</th><th scope=col>...</th><th scope=col>&lt;dbl&gt;</th><th scope=col>&lt;dbl&gt;</th><th scope=col>&lt;dbl&gt;</th><th scope=col>&lt;dbl&gt;</th><th scope=col>&lt;dbl&gt;</th><th scope=col>&lt;dbl&gt;</th><th scope=col>&lt;dbl&gt;</th><th scope=col>&lt;dbl&gt;</th><th scope=col>&lt;dbl&gt;</th><th scope=col>&lt;int&gt;</th></tr>\n",
       "</thead>\n",
       "<tbody>\n",
       "\t<tr><th scope=row>1</th><td>2</td><td>999</td><td>0</td><td> 1.1</td><td>93.994</td><td>4.858</td><td>5191.0</td><td>1</td><td>0</td><td>0</td><td>...</td><td>0</td><td>0</td><td>1</td><td>0</td><td>1</td><td>0</td><td>0</td><td>0</td><td>0</td><td>0</td></tr>\n",
       "\t<tr><th scope=row>2</th><td>3</td><td>999</td><td>0</td><td> 1.4</td><td>94.465</td><td>4.959</td><td>5228.1</td><td>1</td><td>0</td><td>0</td><td>...</td><td>0</td><td>0</td><td>0</td><td>0</td><td>1</td><td>0</td><td>1</td><td>1</td><td>0</td><td>0</td></tr>\n",
       "\t<tr><th scope=row>3</th><td>4</td><td>999</td><td>0</td><td>-0.1</td><td>93.200</td><td>4.153</td><td>5195.8</td><td>1</td><td>1</td><td>0</td><td>...</td><td>1</td><td>0</td><td>0</td><td>0</td><td>1</td><td>1</td><td>0</td><td>1</td><td>0</td><td>0</td></tr>\n",
       "\t<tr><th scope=row>4</th><td>5</td><td>999</td><td>1</td><td>-1.8</td><td>92.893</td><td>1.299</td><td>5099.1</td><td>1</td><td>0</td><td>0</td><td>...</td><td>1</td><td>0</td><td>1</td><td>0</td><td>0</td><td>0</td><td>1</td><td>0</td><td>0</td><td>0</td></tr>\n",
       "\t<tr><th scope=row>5</th><td>6</td><td>999</td><td>0</td><td> 1.4</td><td>93.918</td><td>4.963</td><td>5228.1</td><td>1</td><td>0</td><td>0</td><td>...</td><td>1</td><td>0</td><td>0</td><td>0</td><td>1</td><td>0</td><td>0</td><td>0</td><td>0</td><td>0</td></tr>\n",
       "\t<tr><th scope=row>6</th><td>7</td><td>999</td><td>0</td><td> 1.4</td><td>94.465</td><td>4.864</td><td>5228.1</td><td>1</td><td>0</td><td>0</td><td>...</td><td>0</td><td>0</td><td>0</td><td>0</td><td>1</td><td>0</td><td>1</td><td>1</td><td>0</td><td>0</td></tr>\n",
       "</tbody>\n",
       "</table>\n"
      ],
      "text/latex": [
       "A data.frame: 6 × 22\n",
       "\\begin{tabular}{r|lllllllllllllllllllll}\n",
       "  & client\\_id & pdays & previous & emp\\_var\\_rate & cons\\_price\\_idx & euribor3m & nr\\_employed & pdays\\_999 & job\\_blue\\_collar & job\\_retired & ... & contact\\_cellular & month\\_mar & month\\_may & month\\_oct & poutcome\\_nonexistent & job\\_binned\\_blue\\_collar\\_\\_\\_services & job\\_binned\\_misc\\_\\_level\\_pos\\_ & age\\_binned\\_\\_36\\_55\\_ & age\\_binned\\_\\_55\\_\\_Inf\\_ & subscribe\\\\\n",
       "  & <int> & <int> & <int> & <dbl> & <dbl> & <dbl> & <dbl> & <int> & <dbl> & <dbl> & ... & <dbl> & <dbl> & <dbl> & <dbl> & <dbl> & <dbl> & <dbl> & <dbl> & <dbl> & <int>\\\\\n",
       "\\hline\n",
       "\t1 & 2 & 999 & 0 &  1.1 & 93.994 & 4.858 & 5191.0 & 1 & 0 & 0 & ... & 0 & 0 & 1 & 0 & 1 & 0 & 0 & 0 & 0 & 0\\\\\n",
       "\t2 & 3 & 999 & 0 &  1.4 & 94.465 & 4.959 & 5228.1 & 1 & 0 & 0 & ... & 0 & 0 & 0 & 0 & 1 & 0 & 1 & 1 & 0 & 0\\\\\n",
       "\t3 & 4 & 999 & 0 & -0.1 & 93.200 & 4.153 & 5195.8 & 1 & 1 & 0 & ... & 1 & 0 & 0 & 0 & 1 & 1 & 0 & 1 & 0 & 0\\\\\n",
       "\t4 & 5 & 999 & 1 & -1.8 & 92.893 & 1.299 & 5099.1 & 1 & 0 & 0 & ... & 1 & 0 & 1 & 0 & 0 & 0 & 1 & 0 & 0 & 0\\\\\n",
       "\t5 & 6 & 999 & 0 &  1.4 & 93.918 & 4.963 & 5228.1 & 1 & 0 & 0 & ... & 1 & 0 & 0 & 0 & 1 & 0 & 0 & 0 & 0 & 0\\\\\n",
       "\t6 & 7 & 999 & 0 &  1.4 & 94.465 & 4.864 & 5228.1 & 1 & 0 & 0 & ... & 0 & 0 & 0 & 0 & 1 & 0 & 1 & 1 & 0 & 0\\\\\n",
       "\\end{tabular}\n"
      ],
      "text/markdown": [
       "\n",
       "A data.frame: 6 × 22\n",
       "\n",
       "| <!--/--> | client_id &lt;int&gt; | pdays &lt;int&gt; | previous &lt;int&gt; | emp_var_rate &lt;dbl&gt; | cons_price_idx &lt;dbl&gt; | euribor3m &lt;dbl&gt; | nr_employed &lt;dbl&gt; | pdays_999 &lt;int&gt; | job_blue_collar &lt;dbl&gt; | job_retired &lt;dbl&gt; | ... ... | contact_cellular &lt;dbl&gt; | month_mar &lt;dbl&gt; | month_may &lt;dbl&gt; | month_oct &lt;dbl&gt; | poutcome_nonexistent &lt;dbl&gt; | job_binned_blue_collar___services &lt;dbl&gt; | job_binned_misc__level_pos_ &lt;dbl&gt; | age_binned__36_55_ &lt;dbl&gt; | age_binned__55__Inf_ &lt;dbl&gt; | subscribe &lt;int&gt; |\n",
       "|---|---|---|---|---|---|---|---|---|---|---|---|---|---|---|---|---|---|---|---|---|---|\n",
       "| 1 | 2 | 999 | 0 |  1.1 | 93.994 | 4.858 | 5191.0 | 1 | 0 | 0 | ... | 0 | 0 | 1 | 0 | 1 | 0 | 0 | 0 | 0 | 0 |\n",
       "| 2 | 3 | 999 | 0 |  1.4 | 94.465 | 4.959 | 5228.1 | 1 | 0 | 0 | ... | 0 | 0 | 0 | 0 | 1 | 0 | 1 | 1 | 0 | 0 |\n",
       "| 3 | 4 | 999 | 0 | -0.1 | 93.200 | 4.153 | 5195.8 | 1 | 1 | 0 | ... | 1 | 0 | 0 | 0 | 1 | 1 | 0 | 1 | 0 | 0 |\n",
       "| 4 | 5 | 999 | 1 | -1.8 | 92.893 | 1.299 | 5099.1 | 1 | 0 | 0 | ... | 1 | 0 | 1 | 0 | 0 | 0 | 1 | 0 | 0 | 0 |\n",
       "| 5 | 6 | 999 | 0 |  1.4 | 93.918 | 4.963 | 5228.1 | 1 | 0 | 0 | ... | 1 | 0 | 0 | 0 | 1 | 0 | 0 | 0 | 0 | 0 |\n",
       "| 6 | 7 | 999 | 0 |  1.4 | 94.465 | 4.864 | 5228.1 | 1 | 0 | 0 | ... | 0 | 0 | 0 | 0 | 1 | 0 | 1 | 1 | 0 | 0 |\n",
       "\n"
      ],
      "text/plain": [
       "  client_id pdays previous emp_var_rate cons_price_idx euribor3m nr_employed\n",
       "1 2         999   0         1.1         93.994         4.858     5191.0     \n",
       "2 3         999   0         1.4         94.465         4.959     5228.1     \n",
       "3 4         999   0        -0.1         93.200         4.153     5195.8     \n",
       "4 5         999   1        -1.8         92.893         1.299     5099.1     \n",
       "5 6         999   0         1.4         93.918         4.963     5228.1     \n",
       "6 7         999   0         1.4         94.465         4.864     5228.1     \n",
       "  pdays_999 job_blue_collar job_retired ... contact_cellular month_mar\n",
       "1 1         0               0           ... 0                0        \n",
       "2 1         0               0           ... 0                0        \n",
       "3 1         1               0           ... 1                0        \n",
       "4 1         0               0           ... 1                0        \n",
       "5 1         0               0           ... 1                0        \n",
       "6 1         0               0           ... 0                0        \n",
       "  month_may month_oct poutcome_nonexistent job_binned_blue_collar___services\n",
       "1 1         0         1                    0                                \n",
       "2 0         0         1                    0                                \n",
       "3 0         0         1                    1                                \n",
       "4 1         0         0                    0                                \n",
       "5 0         0         1                    0                                \n",
       "6 0         0         1                    0                                \n",
       "  job_binned_misc__level_pos_ age_binned__36_55_ age_binned__55__Inf_ subscribe\n",
       "1 0                           0                  0                    0        \n",
       "2 1                           1                  0                    0        \n",
       "3 0                           1                  0                    0        \n",
       "4 1                           0                  0                    0        \n",
       "5 0                           0                  0                    0        \n",
       "6 1                           1                  0                    0        "
      ]
     },
     "metadata": {},
     "output_type": "display_data"
    }
   ],
   "source": [
    "# Print out to check\n",
    "head(train_processed)"
   ]
  },
  {
   "cell_type": "markdown",
   "metadata": {},
   "source": [
    "## 3. Benchmark"
   ]
  },
  {
   "cell_type": "code",
   "execution_count": 48,
   "metadata": {},
   "outputs": [],
   "source": [
    "# Create a list of learners\n",
    "lrns1 = list(\n",
    "makeLearner(\"classif.logreg\", predict.type=\"prob\", id = \"logreg\"),\n",
    "makeLearner(\"classif.randomForest\", predict.type=\"prob\", id = \"randomForest\"),\n",
    "makeLearner(\"classif.gbm\", predict.type=\"prob\", id = \"gbm\"),\n",
    "makeLearner(\"classif.svm\", predict.type=\"prob\", id = \"svm\"),\n",
    "makeLearner(\"classif.ada\", predict.type=\"prob\", id = \"ada\")\n",
    ")\n",
    "\n",
    "# Definition of the task\n",
    "train_task1 <- makeClassifTask(id=\"bank_train\", data=train_processed[, -1], target=\"subscribe\")\n",
    "\n",
    "# Definition of metrics\n",
    "meas = list(auc, mmce, timetrain)"
   ]
  },
  {
   "cell_type": "code",
   "execution_count": 49,
   "metadata": {},
   "outputs": [
    {
     "name": "stdout",
     "output_type": "stream",
     "text": [
      "Distribution not specified, assuming bernoulli ...\n",
      "Distribution not specified, assuming bernoulli ...\n",
      "Distribution not specified, assuming bernoulli ...\n",
      "Distribution not specified, assuming bernoulli ...\n",
      "Distribution not specified, assuming bernoulli ...\n",
      "Distribution not specified, assuming bernoulli ...\n",
      "Distribution not specified, assuming bernoulli ...\n",
      "Distribution not specified, assuming bernoulli ...\n",
      "Distribution not specified, assuming bernoulli ...\n",
      "Distribution not specified, assuming bernoulli ...\n"
     ]
    },
    {
     "data": {
      "text/plain": [
       "     task.id   learner.id auc.test.mean mmce.test.mean timetrain.test.mean\n",
       "1 bank_train       logreg     0.7942082      0.1070000               0.052\n",
       "2 bank_train randomForest     0.7727132      0.1057143               4.807\n",
       "3 bank_train          gbm     0.7893713      0.1047143               0.326\n",
       "4 bank_train          svm     0.6802879      0.1084286               7.751\n",
       "5 bank_train          ada     0.7986515      0.1028571               3.256"
      ]
     },
     "metadata": {},
     "output_type": "display_data"
    }
   ],
   "source": [
    "# Definition of resampling method\n",
    "rdesc1 = makeResampleDesc(\"CV\", iters = 10)\n",
    "\n",
    "# Application of benchmark\n",
    "bmr = benchmark(lrns1, train_task1, rdesc1, meas, show.info = FALSE)\n",
    "bmr"
   ]
  },
  {
   "cell_type": "code",
   "execution_count": 50,
   "metadata": {},
   "outputs": [
    {
     "name": "stdout",
     "output_type": "stream",
     "text": [
      "Distribution not specified, assuming bernoulli ...\n",
      "Distribution not specified, assuming bernoulli ...\n",
      "Distribution not specified, assuming bernoulli ...\n",
      "Distribution not specified, assuming bernoulli ...\n",
      "Distribution not specified, assuming bernoulli ...\n",
      "Distribution not specified, assuming bernoulli ...\n",
      "Distribution not specified, assuming bernoulli ...\n",
      "Distribution not specified, assuming bernoulli ...\n",
      "Distribution not specified, assuming bernoulli ...\n"
     ]
    },
    {
     "data": {
      "text/plain": [
       "     task.id   learner.id auc.test.mean mmce.test.mean timetrain.test.mean\n",
       "1 bank_train       logreg     0.7916258      0.1065704          0.03666667\n",
       "2 bank_train randomForest     0.7703538      0.1054269          5.11000000\n",
       "3 bank_train          gbm     0.7874482      0.1049979          0.33888889\n",
       "4 bank_train          svm     0.6825882      0.1099982          9.02222222\n",
       "5 bank_train          ada     0.8002422      0.1048549          3.28000000"
      ]
     },
     "metadata": {},
     "output_type": "display_data"
    }
   ],
   "source": [
    "# Definition of resampling method (Cross-Validation)\n",
    "rdesc1 = makeResampleDesc(\"CV\", iters = 9)\n",
    "\n",
    "# Application of benchmark\n",
    "bmr = benchmark(lrns1, train_task1, rdesc1, meas, show.info = FALSE)\n",
    "bmr"
   ]
  },
  {
   "cell_type": "code",
   "execution_count": 51,
   "metadata": {},
   "outputs": [
    {
     "name": "stdout",
     "output_type": "stream",
     "text": [
      "Distribution not specified, assuming bernoulli ...\n"
     ]
    },
    {
     "data": {
      "text/plain": [
       "     task.id   learner.id auc.test.mean mmce.test.mean timetrain.test.mean\n",
       "1 bank_train       logreg     0.7937699      0.1053985                0.03\n",
       "2 bank_train randomForest     0.7419952      0.1019709                3.33\n",
       "3 bank_train          gbm     0.7918014      0.1032562                0.25\n",
       "4 bank_train          svm     0.6836724      0.1032562                4.36\n",
       "5 bank_train          ada     0.7999509      0.1032562                2.40"
      ]
     },
     "metadata": {},
     "output_type": "display_data"
    }
   ],
   "source": [
    "# Definition of resampling method (Holdout)\n",
    "rdesc1 = makeResampleDesc(\"Holdout\", iters = 9)\n",
    "\n",
    "# Application of benchmark\n",
    "bmr = benchmark(lrns1, train_task1, rdesc1, meas, show.info = FALSE)\n",
    "bmr"
   ]
  },
  {
   "cell_type": "code",
   "execution_count": 53,
   "metadata": {},
   "outputs": [
    {
     "name": "stdout",
     "output_type": "stream",
     "text": [
      "Distribution not specified, assuming bernoulli ...\n",
      "Distribution not specified, assuming bernoulli ...\n",
      "Distribution not specified, assuming bernoulli ...\n",
      "Distribution not specified, assuming bernoulli ...\n",
      "Distribution not specified, assuming bernoulli ...\n",
      "Distribution not specified, assuming bernoulli ...\n",
      "Distribution not specified, assuming bernoulli ...\n",
      "Distribution not specified, assuming bernoulli ...\n",
      "Distribution not specified, assuming bernoulli ...\n"
     ]
    },
    {
     "data": {
      "text/plain": [
       "     task.id   learner.id auc.test.mean mmce.test.mean timetrain.test.mean\n",
       "1 bank_train       logreg     0.7832739      0.1067651          0.04777778\n",
       "2 bank_train randomForest     0.7688386      0.1075953          5.38666667\n",
       "3 bank_train          gbm     0.7855032      0.1061147          0.36888889\n",
       "4 bank_train          svm     0.6892997      0.1098389          9.03666667\n",
       "5 bank_train          ada     0.7920311      0.1062922          3.30444444"
      ]
     },
     "metadata": {},
     "output_type": "display_data"
    }
   ],
   "source": [
    "# Definition of resampling method (Boostrap)\n",
    "rdesc1 = makeResampleDesc(\"Bootstrap\", iters = 9)\n",
    "\n",
    "# Application of benchmark\n",
    "bmr = benchmark(lrns1, train_task1, rdesc1, meas, show.info = FALSE)\n",
    "bmr"
   ]
  },
  {
   "cell_type": "markdown",
   "metadata": {},
   "source": [
    "## 3. Modeling"
   ]
  },
  {
   "cell_type": "markdown",
   "metadata": {},
   "source": [
    "### 3.1. Adaptive Boosting"
   ]
  },
  {
   "cell_type": "code",
   "execution_count": 45,
   "metadata": {},
   "outputs": [
    {
     "name": "stderr",
     "output_type": "stream",
     "text": [
      "Resampling: cross-validation\n",
      "Measures:             auc.train   auc.test    \n",
      "[Resample] iter 1:    0.8200489   0.7998587   \n",
      "[Resample] iter 2:    0.8198381   0.8062551   \n",
      "[Resample] iter 3:    0.8297003   0.7410643   \n",
      "[Resample] iter 4:    0.8208506   0.7871035   \n",
      "[Resample] iter 5:    0.8169124   0.8292884   \n",
      "[Resample] iter 6:    0.8212491   0.7563349   \n",
      "[Resample] iter 7:    0.8166291   0.8265992   \n",
      "[Resample] iter 8:    0.8167556   0.7961191   \n",
      "[Resample] iter 9:    0.8142538   0.8241925   \n",
      "\n",
      "\n",
      "Aggregated Result: auc.test.mean=0.7963128,auc.train.mean=0.8195820\n",
      "\n",
      "\n"
     ]
    }
   ],
   "source": [
    "# Set up cross-validation\n",
    "rdesc = makeResampleDesc(\"CV\", iters=9, predict=\"both\")\n",
    "\n",
    "# Define the model\n",
    "learner <- makeLearner(\"classif.ada\", predict.type=\"prob\", fix.factors.prediction=T)\n",
    "\n",
    "# Define the task\n",
    "train_task <- makeClassifTask(id=\"bank_train\", data=train_processed[, -1], target=\"subscribe\")\n",
    "\n",
    "# Set hyper parameter tuning\n",
    "tune_params <- makeParamSet(\n",
    ")\n",
    "ctrl = makeTuneControlGrid()\n",
    "\n",
    "# Run the hyper parameter tuning with k-fold CV\n",
    "if (length(tune_params$pars) > 0) {\n",
    "    # Run parameter tuning\n",
    "    res <- tuneParams(learner, task=train_task, resampling=rdesc,\n",
    "      par.set=tune_params, control=ctrl, measures=list(mlr::auc))\n",
    "    \n",
    "    # Extract best model\n",
    "    best_learner <- res$learner\n",
    "    \n",
    "} else {\n",
    "    # Simple cross-validation\n",
    "    res <- resample(learner, train_task, rdesc, measures=list(mlr::auc, setAggregation(mlr::auc, train.mean)))\n",
    "    \n",
    "    # No parameter for tuning, only 1 best learner\n",
    "    best_learner <- learner\n",
    "}"
   ]
  },
  {
   "cell_type": "code",
   "execution_count": 46,
   "metadata": {},
   "outputs": [],
   "source": [
    "# Retrain the model with tbe best hyper-parameters\n",
    "best_md <- mlr::train(best_learner, train_task)"
   ]
  },
  {
   "cell_type": "code",
   "execution_count": 47,
   "metadata": {},
   "outputs": [
    {
     "data": {
      "text/plain": [
       "Prediction: 3000 observations\n",
       "predict.type: prob\n",
       "threshold: 0=0.50,1=0.50\n",
       "time: 0.30\n",
       "        prob.0     prob.1 response\n",
       "7001 0.9400665 0.05993348        0\n",
       "7002 0.9514678 0.04853220        0\n",
       "7003 0.7642482 0.23575181        0\n",
       "7004 0.9448104 0.05518961        0\n",
       "7005 0.9525380 0.04746203        0\n",
       "7006 0.9310731 0.06892690        0\n",
       "... (#rows: 3000, #cols: 3)"
      ]
     },
     "metadata": {},
     "output_type": "display_data"
    }
   ],
   "source": [
    "# Make prediction on test data\n",
    "pred <- predict(best_md, newdata=test_holdout_processed[, -1])\n",
    "pred"
   ]
  },
  {
   "cell_type": "code",
   "execution_count": 140,
   "metadata": {},
   "outputs": [],
   "source": [
    "# Output predicted file\n",
    "output <- data.frame(client_id=test_holdout$client_id, subscribe=pred$data$prob.1)\n",
    "write.csv(output, 'C:/Users/razow/Desktop/IESEG Subjects/11 Statistical and machine learning approaches/Individual Assignment/ada.csv', row.names=FALSE)"
   ]
  }
 ],
 "metadata": {
  "kernelspec": {
   "display_name": "R",
   "language": "R",
   "name": "ir"
  },
  "language_info": {
   "codemirror_mode": "r",
   "file_extension": ".r",
   "mimetype": "text/x-r-source",
   "name": "R",
   "pygments_lexer": "r",
   "version": "3.6.1"
  }
 },
 "nbformat": 4,
 "nbformat_minor": 4
}
